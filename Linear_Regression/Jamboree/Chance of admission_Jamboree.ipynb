{
 "cells": [
  {
   "cell_type": "markdown",
   "id": "443fe729",
   "metadata": {},
   "source": [
    "Jamboree has helped thousands of students like you make it to top colleges abroad. Be it GMAT, GRE or SAT, their unique problem-solving methods ensure maximum scores with minimum effort.\n",
    "\n",
    "They recently launched a feature where students/learners can come to their website and check their probability of getting into the IVY league college. This feature estimates the chances of graduate admission from an Indian perspective."
   ]
  },
  {
   "cell_type": "markdown",
   "id": "9439cdd3",
   "metadata": {},
   "source": [
    "### How can you help here?\n",
    "Your analysis will help Jamboree in understanding what factors are important in graduate admissions and how these factors are interrelated among themselves. It will also help predict one's chances of admission given the rest of the variables."
   ]
  },
  {
   "cell_type": "code",
   "execution_count": 1,
   "id": "0f3fe86d",
   "metadata": {},
   "outputs": [],
   "source": [
    "import pandas as pd\n",
    "import numpy as np\n",
    "import matplotlib.pyplot as plt\n",
    "import seaborn as sns\n",
    "import scipy.stats as stats\n",
    "import warnings\n",
    "import statsmodels.api as sm\n",
    "from sklearn.linear_model import LinearRegression\n",
    "from sklearn.linear_model import Ridge\n",
    "from sklearn.linear_model import Lasso\n",
    "from sklearn.model_selection import train_test_split\n",
    "from sklearn.preprocessing import minmax_scale\n",
    "from sklearn.preprocessing import StandardScaler\n",
    "from sklearn.metrics import r2_score\n",
    "from sklearn import metrics\n",
    "from statsmodels.stats.outliers_influence import variance_inflation_factor\n",
    "from sklearn.model_selection import GridSearchCV"
   ]
  },
  {
   "cell_type": "code",
   "execution_count": 2,
   "id": "84aec3e9",
   "metadata": {},
   "outputs": [],
   "source": [
    "warnings.filterwarnings('ignore')"
   ]
  },
  {
   "cell_type": "code",
   "execution_count": 3,
   "id": "17b741d3",
   "metadata": {},
   "outputs": [],
   "source": [
    "df = pd.read_csv('Jamboree_Admission.csv')"
   ]
  },
  {
   "cell_type": "code",
   "execution_count": 4,
   "id": "1f35c33a",
   "metadata": {},
   "outputs": [
    {
     "data": {
      "text/html": [
       "<div>\n",
       "<style scoped>\n",
       "    .dataframe tbody tr th:only-of-type {\n",
       "        vertical-align: middle;\n",
       "    }\n",
       "\n",
       "    .dataframe tbody tr th {\n",
       "        vertical-align: top;\n",
       "    }\n",
       "\n",
       "    .dataframe thead th {\n",
       "        text-align: right;\n",
       "    }\n",
       "</style>\n",
       "<table border=\"1\" class=\"dataframe\">\n",
       "  <thead>\n",
       "    <tr style=\"text-align: right;\">\n",
       "      <th></th>\n",
       "      <th>Serial No.</th>\n",
       "      <th>GRE Score</th>\n",
       "      <th>TOEFL Score</th>\n",
       "      <th>University Rating</th>\n",
       "      <th>SOP</th>\n",
       "      <th>LOR</th>\n",
       "      <th>CGPA</th>\n",
       "      <th>Research</th>\n",
       "      <th>Chance of Admit</th>\n",
       "    </tr>\n",
       "  </thead>\n",
       "  <tbody>\n",
       "    <tr>\n",
       "      <th>0</th>\n",
       "      <td>1</td>\n",
       "      <td>337</td>\n",
       "      <td>118</td>\n",
       "      <td>4</td>\n",
       "      <td>4.5</td>\n",
       "      <td>4.5</td>\n",
       "      <td>9.65</td>\n",
       "      <td>1</td>\n",
       "      <td>0.92</td>\n",
       "    </tr>\n",
       "    <tr>\n",
       "      <th>1</th>\n",
       "      <td>2</td>\n",
       "      <td>324</td>\n",
       "      <td>107</td>\n",
       "      <td>4</td>\n",
       "      <td>4.0</td>\n",
       "      <td>4.5</td>\n",
       "      <td>8.87</td>\n",
       "      <td>1</td>\n",
       "      <td>0.76</td>\n",
       "    </tr>\n",
       "    <tr>\n",
       "      <th>2</th>\n",
       "      <td>3</td>\n",
       "      <td>316</td>\n",
       "      <td>104</td>\n",
       "      <td>3</td>\n",
       "      <td>3.0</td>\n",
       "      <td>3.5</td>\n",
       "      <td>8.00</td>\n",
       "      <td>1</td>\n",
       "      <td>0.72</td>\n",
       "    </tr>\n",
       "    <tr>\n",
       "      <th>3</th>\n",
       "      <td>4</td>\n",
       "      <td>322</td>\n",
       "      <td>110</td>\n",
       "      <td>3</td>\n",
       "      <td>3.5</td>\n",
       "      <td>2.5</td>\n",
       "      <td>8.67</td>\n",
       "      <td>1</td>\n",
       "      <td>0.80</td>\n",
       "    </tr>\n",
       "    <tr>\n",
       "      <th>4</th>\n",
       "      <td>5</td>\n",
       "      <td>314</td>\n",
       "      <td>103</td>\n",
       "      <td>2</td>\n",
       "      <td>2.0</td>\n",
       "      <td>3.0</td>\n",
       "      <td>8.21</td>\n",
       "      <td>0</td>\n",
       "      <td>0.65</td>\n",
       "    </tr>\n",
       "  </tbody>\n",
       "</table>\n",
       "</div>"
      ],
      "text/plain": [
       "   Serial No.  GRE Score  TOEFL Score  University Rating  SOP  LOR   CGPA  \\\n",
       "0           1        337          118                  4  4.5   4.5  9.65   \n",
       "1           2        324          107                  4  4.0   4.5  8.87   \n",
       "2           3        316          104                  3  3.0   3.5  8.00   \n",
       "3           4        322          110                  3  3.5   2.5  8.67   \n",
       "4           5        314          103                  2  2.0   3.0  8.21   \n",
       "\n",
       "   Research  Chance of Admit   \n",
       "0         1              0.92  \n",
       "1         1              0.76  \n",
       "2         1              0.72  \n",
       "3         1              0.80  \n",
       "4         0              0.65  "
      ]
     },
     "execution_count": 4,
     "metadata": {},
     "output_type": "execute_result"
    }
   ],
   "source": [
    "df.head()"
   ]
  },
  {
   "cell_type": "code",
   "execution_count": 5,
   "id": "e2f2449b",
   "metadata": {
    "scrolled": true
   },
   "outputs": [
    {
     "name": "stdout",
     "output_type": "stream",
     "text": [
      "<class 'pandas.core.frame.DataFrame'>\n",
      "RangeIndex: 500 entries, 0 to 499\n",
      "Data columns (total 9 columns):\n",
      " #   Column             Non-Null Count  Dtype  \n",
      "---  ------             --------------  -----  \n",
      " 0   Serial No.         500 non-null    int64  \n",
      " 1   GRE Score          500 non-null    int64  \n",
      " 2   TOEFL Score        500 non-null    int64  \n",
      " 3   University Rating  500 non-null    int64  \n",
      " 4   SOP                500 non-null    float64\n",
      " 5   LOR                500 non-null    float64\n",
      " 6   CGPA               500 non-null    float64\n",
      " 7   Research           500 non-null    int64  \n",
      " 8   Chance of Admit    500 non-null    float64\n",
      "dtypes: float64(4), int64(5)\n",
      "memory usage: 35.3 KB\n"
     ]
    }
   ],
   "source": [
    "df.info()"
   ]
  },
  {
   "cell_type": "code",
   "execution_count": 6,
   "id": "a7d7ac2d",
   "metadata": {
    "scrolled": true
   },
   "outputs": [
    {
     "data": {
      "text/plain": [
       "Serial No.           0\n",
       "GRE Score            0\n",
       "TOEFL Score          0\n",
       "University Rating    0\n",
       "SOP                  0\n",
       "LOR                  0\n",
       "CGPA                 0\n",
       "Research             0\n",
       "Chance of Admit      0\n",
       "dtype: int64"
      ]
     },
     "execution_count": 6,
     "metadata": {},
     "output_type": "execute_result"
    }
   ],
   "source": [
    "df.isnull().sum()"
   ]
  },
  {
   "cell_type": "markdown",
   "id": "1f1132a8",
   "metadata": {},
   "source": [
    "There are no null values in the dataframe"
   ]
  },
  {
   "cell_type": "code",
   "execution_count": 7,
   "id": "39f3ae2e",
   "metadata": {},
   "outputs": [],
   "source": [
    "## Copy of the dataset for further usage\n",
    "df_copy = df.copy(deep = True)"
   ]
  },
  {
   "cell_type": "markdown",
   "id": "e71dd6bd",
   "metadata": {},
   "source": [
    "Taking a copy of df for future evaluations"
   ]
  },
  {
   "cell_type": "code",
   "execution_count": 8,
   "id": "0c5f1961",
   "metadata": {},
   "outputs": [
    {
     "data": {
      "text/plain": [
       "Index(['Serial No.', 'GRE Score', 'TOEFL Score', 'University Rating', 'SOP',\n",
       "       'LOR ', 'CGPA', 'Research', 'Chance of Admit '],\n",
       "      dtype='object')"
      ]
     },
     "execution_count": 8,
     "metadata": {},
     "output_type": "execute_result"
    }
   ],
   "source": [
    "df.columns"
   ]
  },
  {
   "cell_type": "code",
   "execution_count": 9,
   "id": "891f1021",
   "metadata": {},
   "outputs": [],
   "source": [
    "## There is space at the end of the column name so renaming it.\n",
    "df.rename(columns={'LOR ':'LOR','Chance of Admit ':'Chance of Admit'},inplace = True) "
   ]
  },
  {
   "cell_type": "code",
   "execution_count": 10,
   "id": "159b7165",
   "metadata": {},
   "outputs": [],
   "source": [
    "df_copy = df.copy(deep = True)"
   ]
  },
  {
   "cell_type": "code",
   "execution_count": 11,
   "id": "041a9d54",
   "metadata": {},
   "outputs": [],
   "source": [
    "## removin the first column as it has no significance just an index\n",
    "df.drop(['Serial No.'],axis=1,inplace=True)"
   ]
  },
  {
   "cell_type": "code",
   "execution_count": 12,
   "id": "17211d6e",
   "metadata": {},
   "outputs": [
    {
     "data": {
      "text/html": [
       "<div>\n",
       "<style scoped>\n",
       "    .dataframe tbody tr th:only-of-type {\n",
       "        vertical-align: middle;\n",
       "    }\n",
       "\n",
       "    .dataframe tbody tr th {\n",
       "        vertical-align: top;\n",
       "    }\n",
       "\n",
       "    .dataframe thead th {\n",
       "        text-align: right;\n",
       "    }\n",
       "</style>\n",
       "<table border=\"1\" class=\"dataframe\">\n",
       "  <thead>\n",
       "    <tr style=\"text-align: right;\">\n",
       "      <th></th>\n",
       "      <th>GRE Score</th>\n",
       "      <th>TOEFL Score</th>\n",
       "      <th>University Rating</th>\n",
       "      <th>SOP</th>\n",
       "      <th>LOR</th>\n",
       "      <th>CGPA</th>\n",
       "      <th>Research</th>\n",
       "      <th>Chance of Admit</th>\n",
       "    </tr>\n",
       "  </thead>\n",
       "  <tbody>\n",
       "  </tbody>\n",
       "</table>\n",
       "</div>"
      ],
      "text/plain": [
       "Empty DataFrame\n",
       "Columns: [GRE Score, TOEFL Score, University Rating, SOP, LOR, CGPA, Research, Chance of Admit]\n",
       "Index: []"
      ]
     },
     "execution_count": 12,
     "metadata": {},
     "output_type": "execute_result"
    }
   ],
   "source": [
    "df[df.duplicated()]"
   ]
  },
  {
   "cell_type": "raw",
   "id": "0c0c5d70",
   "metadata": {},
   "source": [
    "There are no duplicated values in the dataset."
   ]
  },
  {
   "cell_type": "code",
   "execution_count": null,
   "id": "5f63efec",
   "metadata": {},
   "outputs": [],
   "source": []
  },
  {
   "cell_type": "markdown",
   "id": "974f0530",
   "metadata": {},
   "source": [
    "### Univariate Analysis"
   ]
  },
  {
   "cell_type": "code",
   "execution_count": 13,
   "id": "c0679aa5",
   "metadata": {},
   "outputs": [
    {
     "name": "stdout",
     "output_type": "stream",
     "text": [
      "University Rating:5\n",
      "SOP:9\n",
      "LOR:9\n",
      "Research:2\n"
     ]
    }
   ],
   "source": [
    "cat_cols = []\n",
    "for i in df.columns:\n",
    "    if df[i].nunique() < 10:\n",
    "        cat_cols.append(i)\n",
    "        print(i + ':' + str(df[i].nunique()))    "
   ]
  },
  {
   "cell_type": "code",
   "execution_count": 14,
   "id": "d6962089",
   "metadata": {
    "scrolled": false
   },
   "outputs": [
    {
     "data": {
      "image/png": "[encoded data removed]",
      "text/plain": [
       "<Figure size 432x288 with 1 Axes>"
      ]
     },
     "metadata": {
      "needs_background": "light"
     },
     "output_type": "display_data"
    },
    {
     "data": {
      "image/png": "[encoded data removed]",
      "text/plain": [
       "<Figure size 432x288 with 1 Axes>"
      ]
     },
     "metadata": {
      "needs_background": "light"
     },
     "output_type": "display_data"
    },
    {
     "data": {
      "image/png": "[encoded data removed]",
      "text/plain": [
       "<Figure size 432x288 with 1 Axes>"
      ]
     },
     "metadata": {
      "needs_background": "light"
     },
     "output_type": "display_data"
    },
    {
     "data": {
      "image/png": "[encoded data removed]",
      "text/plain": [
       "<Figure size 432x288 with 1 Axes>"
      ]
     },
     "metadata": {
      "needs_background": "light"
     },
     "output_type": "display_data"
    }
   ],
   "source": [
    "for i in range(len(cat_cols)):\n",
    "    sns.countplot(df[cat_cols[i]])\n",
    "    plt.show()"
   ]
  },
  {
   "cell_type": "raw",
   "id": "ccbe0a74",
   "metadata": {},
   "source": [
    "-->Most of the universities are average rated (around 3)\n",
    "-->SOP of the students is on bit higher rate (4)\n",
    "-->LOR of students is around 3-4\n",
    "-->Among all the students most of the students have done research\n",
    "-->From above observaions most of the students are average students and very few students are good performing and very few students are bad performing"
   ]
  },
  {
   "cell_type": "code",
   "execution_count": 15,
   "id": "eac6913a",
   "metadata": {
    "scrolled": false
   },
   "outputs": [
    {
     "data": {
      "image/png": "[encoded data removed]",
      "text/plain": [
       "<Figure size 792x288 with 2 Axes>"
      ]
     },
     "metadata": {
      "needs_background": "light"
     },
     "output_type": "display_data"
    },
    {
     "data": {
      "image/png": "[encoded data removed]",
      "text/plain": [
       "<Figure size 792x288 with 2 Axes>"
      ]
     },
     "metadata": {
      "needs_background": "light"
     },
     "output_type": "display_data"
    },
    {
     "data": {
      "image/png": "[encoded data removed]",
      "text/plain": [
       "<Figure size 792x288 with 2 Axes>"
      ]
     },
     "metadata": {
      "needs_background": "light"
     },
     "output_type": "display_data"
    },
    {
     "data": {
      "image/png": "[encoded data removed]",
      "text/plain": [
       "<Figure size 792x288 with 2 Axes>"
      ]
     },
     "metadata": {
      "needs_background": "light"
     },
     "output_type": "display_data"
    }
   ],
   "source": [
    "con_cols = []\n",
    "for i in df.columns:\n",
    "    if df[i].nunique() > 10:\n",
    "        con_cols.append(i)\n",
    "        plt.figure(figsize=(11,4))\n",
    "        plt.subplot(1,2,1)\n",
    "        sns.distplot(df[i],hist=True,kde=True,hist_kws={'edgecolor':'black'},kde_kws ={\"linewidth\":4})\n",
    "        plt.subplot(1,2,2)\n",
    "        sns.boxplot(df[i])\n",
    "        plt.show()"
   ]
  },
  {
   "cell_type": "raw",
   "id": "85496936",
   "metadata": {},
   "source": [
    "From above plots, we can say that most of the data follows normal distribution and there are no outliers in the data."
   ]
  },
  {
   "cell_type": "markdown",
   "id": "639a82b5",
   "metadata": {},
   "source": [
    "### BiVariate Analysis"
   ]
  },
  {
   "cell_type": "code",
   "execution_count": 16,
   "id": "dbcd0d0c",
   "metadata": {},
   "outputs": [
    {
     "data": {
      "text/plain": [
       "<AxesSubplot:xlabel='University Rating', ylabel='count'>"
      ]
     },
     "execution_count": 16,
     "metadata": {},
     "output_type": "execute_result"
    },
    {
     "data": {
      "image/png": "[encoded data removed]",
      "text/plain": [
       "<Figure size 432x288 with 1 Axes>"
      ]
     },
     "metadata": {
      "needs_background": "light"
     },
     "output_type": "display_data"
    }
   ],
   "source": [
    "sns.countplot(x=df['University Rating'],hue =df['Research'])"
   ]
  },
  {
   "cell_type": "raw",
   "id": "58e7ac62",
   "metadata": {},
   "source": [
    "Most of the students who have done research has done research prefers for universities with high rating"
   ]
  },
  {
   "cell_type": "code",
   "execution_count": 17,
   "id": "18b2bac5",
   "metadata": {},
   "outputs": [
    {
     "data": {
      "text/plain": [
       "<AxesSubplot:xlabel='Research', ylabel='TOEFL Score'>"
      ]
     },
     "execution_count": 17,
     "metadata": {},
     "output_type": "execute_result"
    },
    {
     "data": {
      "image/png": "[encoded data removed]",
      "text/plain": [
       "<Figure size 432x288 with 1 Axes>"
      ]
     },
     "metadata": {
      "needs_background": "light"
     },
     "output_type": "display_data"
    }
   ],
   "source": [
    "sns.boxplot(y=df['TOEFL Score'],x=df['Research'])"
   ]
  },
  {
   "cell_type": "raw",
   "id": "ca843d27",
   "metadata": {},
   "source": [
    "Median of TOFEL Scores is higher for students who have research experience"
   ]
  },
  {
   "cell_type": "code",
   "execution_count": 18,
   "id": "141debcf",
   "metadata": {
    "scrolled": true
   },
   "outputs": [
    {
     "data": {
      "text/plain": [
       "<AxesSubplot:xlabel='Research', ylabel='CGPA'>"
      ]
     },
     "execution_count": 18,
     "metadata": {},
     "output_type": "execute_result"
    },
    {
     "data": {
      "image/png": "[encoded data removed]",
      "text/plain": [
       "<Figure size 432x288 with 1 Axes>"
      ]
     },
     "metadata": {
      "needs_background": "light"
     },
     "output_type": "display_data"
    }
   ],
   "source": [
    "sns.boxplot(y=df['CGPA'],x=df['Research'])"
   ]
  },
  {
   "cell_type": "raw",
   "id": "9bd61176",
   "metadata": {},
   "source": [
    "Students who have high CGPA are more likely to have research experience"
   ]
  },
  {
   "cell_type": "code",
   "execution_count": 19,
   "id": "56ccbeae",
   "metadata": {},
   "outputs": [
    {
     "data": {
      "text/plain": [
       "<AxesSubplot:xlabel='University Rating', ylabel='GRE Score'>"
      ]
     },
     "execution_count": 19,
     "metadata": {},
     "output_type": "execute_result"
    },
    {
     "data": {
      "image/png": "[encoded data removed]",
      "text/plain": [
       "<Figure size 432x288 with 1 Axes>"
      ]
     },
     "metadata": {
      "needs_background": "light"
     },
     "output_type": "display_data"
    }
   ],
   "source": [
    "sns.boxplot(x=df['University Rating'],y=df['GRE Score'])"
   ]
  },
  {
   "cell_type": "raw",
   "id": "d41ad84c",
   "metadata": {},
   "source": [
    "As the GRE scores increases the university prefrence of the students also increases"
   ]
  },
  {
   "cell_type": "code",
   "execution_count": 20,
   "id": "20af7b82",
   "metadata": {},
   "outputs": [
    {
     "data": {
      "text/plain": [
       "<AxesSubplot:xlabel='University Rating', ylabel='GRE Score'>"
      ]
     },
     "execution_count": 20,
     "metadata": {},
     "output_type": "execute_result"
    },
    {
     "data": {
      "image/png": "[encoded data removed]",
      "text/plain": [
       "<Figure size 432x288 with 1 Axes>"
      ]
     },
     "metadata": {
      "needs_background": "light"
     },
     "output_type": "display_data"
    }
   ],
   "source": [
    "sns.boxplot(x=df['University Rating'],y=df['GRE Score'],hue = df['Research'])"
   ]
  },
  {
   "cell_type": "raw",
   "id": "2d11080c",
   "metadata": {},
   "source": [
    "Students who have high GRE scores are having research experience"
   ]
  },
  {
   "cell_type": "code",
   "execution_count": 21,
   "id": "b02122c4",
   "metadata": {},
   "outputs": [
    {
     "data": {
      "text/plain": [
       "<AxesSubplot:xlabel='LOR', ylabel='GRE Score'>"
      ]
     },
     "execution_count": 21,
     "metadata": {},
     "output_type": "execute_result"
    },
    {
     "data": {
      "image/png": "[encoded data removed]",
      "text/plain": [
       "<Figure size 432x288 with 1 Axes>"
      ]
     },
     "metadata": {
      "needs_background": "light"
     },
     "output_type": "display_data"
    }
   ],
   "source": [
    "sns.boxplot(x=df['LOR'],y=df['GRE Score'],hue = df['Research'])"
   ]
  },
  {
   "cell_type": "code",
   "execution_count": 22,
   "id": "b35a8f10",
   "metadata": {
    "scrolled": true
   },
   "outputs": [
    {
     "data": {
      "text/plain": [
       "<AxesSubplot:xlabel='SOP', ylabel='GRE Score'>"
      ]
     },
     "execution_count": 22,
     "metadata": {},
     "output_type": "execute_result"
    },
    {
     "data": {
      "image/png": "[encoded data removed]",
      "text/plain": [
       "<Figure size 432x288 with 1 Axes>"
      ]
     },
     "metadata": {
      "needs_background": "light"
     },
     "output_type": "display_data"
    }
   ],
   "source": [
    "sns.boxplot(x=df['SOP'],y=df['GRE Score'],hue = df['Research'])"
   ]
  },
  {
   "cell_type": "raw",
   "id": "607ccf5a",
   "metadata": {},
   "source": [
    "From above plots we can say that students who have research experience gets high GRE scores than others"
   ]
  },
  {
   "cell_type": "code",
   "execution_count": 23,
   "id": "1c1adc36",
   "metadata": {
    "scrolled": true
   },
   "outputs": [
    {
     "data": {
      "text/html": [
       "<div>\n",
       "<style scoped>\n",
       "    .dataframe tbody tr th:only-of-type {\n",
       "        vertical-align: middle;\n",
       "    }\n",
       "\n",
       "    .dataframe tbody tr th {\n",
       "        vertical-align: top;\n",
       "    }\n",
       "\n",
       "    .dataframe thead th {\n",
       "        text-align: right;\n",
       "    }\n",
       "</style>\n",
       "<table border=\"1\" class=\"dataframe\">\n",
       "  <thead>\n",
       "    <tr style=\"text-align: right;\">\n",
       "      <th></th>\n",
       "      <th>GRE Score</th>\n",
       "      <th>TOEFL Score</th>\n",
       "      <th>University Rating</th>\n",
       "      <th>SOP</th>\n",
       "      <th>LOR</th>\n",
       "      <th>CGPA</th>\n",
       "      <th>Research</th>\n",
       "      <th>Chance of Admit</th>\n",
       "    </tr>\n",
       "  </thead>\n",
       "  <tbody>\n",
       "    <tr>\n",
       "      <th>GRE Score</th>\n",
       "      <td>1.000000</td>\n",
       "      <td>0.827200</td>\n",
       "      <td>0.635376</td>\n",
       "      <td>0.613498</td>\n",
       "      <td>0.524679</td>\n",
       "      <td>0.825878</td>\n",
       "      <td>0.563398</td>\n",
       "      <td>0.810351</td>\n",
       "    </tr>\n",
       "    <tr>\n",
       "      <th>TOEFL Score</th>\n",
       "      <td>0.827200</td>\n",
       "      <td>1.000000</td>\n",
       "      <td>0.649799</td>\n",
       "      <td>0.644410</td>\n",
       "      <td>0.541563</td>\n",
       "      <td>0.810574</td>\n",
       "      <td>0.467012</td>\n",
       "      <td>0.792228</td>\n",
       "    </tr>\n",
       "    <tr>\n",
       "      <th>University Rating</th>\n",
       "      <td>0.635376</td>\n",
       "      <td>0.649799</td>\n",
       "      <td>1.000000</td>\n",
       "      <td>0.728024</td>\n",
       "      <td>0.608651</td>\n",
       "      <td>0.705254</td>\n",
       "      <td>0.427047</td>\n",
       "      <td>0.690132</td>\n",
       "    </tr>\n",
       "    <tr>\n",
       "      <th>SOP</th>\n",
       "      <td>0.613498</td>\n",
       "      <td>0.644410</td>\n",
       "      <td>0.728024</td>\n",
       "      <td>1.000000</td>\n",
       "      <td>0.663707</td>\n",
       "      <td>0.712154</td>\n",
       "      <td>0.408116</td>\n",
       "      <td>0.684137</td>\n",
       "    </tr>\n",
       "    <tr>\n",
       "      <th>LOR</th>\n",
       "      <td>0.524679</td>\n",
       "      <td>0.541563</td>\n",
       "      <td>0.608651</td>\n",
       "      <td>0.663707</td>\n",
       "      <td>1.000000</td>\n",
       "      <td>0.637469</td>\n",
       "      <td>0.372526</td>\n",
       "      <td>0.645365</td>\n",
       "    </tr>\n",
       "    <tr>\n",
       "      <th>CGPA</th>\n",
       "      <td>0.825878</td>\n",
       "      <td>0.810574</td>\n",
       "      <td>0.705254</td>\n",
       "      <td>0.712154</td>\n",
       "      <td>0.637469</td>\n",
       "      <td>1.000000</td>\n",
       "      <td>0.501311</td>\n",
       "      <td>0.882413</td>\n",
       "    </tr>\n",
       "    <tr>\n",
       "      <th>Research</th>\n",
       "      <td>0.563398</td>\n",
       "      <td>0.467012</td>\n",
       "      <td>0.427047</td>\n",
       "      <td>0.408116</td>\n",
       "      <td>0.372526</td>\n",
       "      <td>0.501311</td>\n",
       "      <td>1.000000</td>\n",
       "      <td>0.545871</td>\n",
       "    </tr>\n",
       "    <tr>\n",
       "      <th>Chance of Admit</th>\n",
       "      <td>0.810351</td>\n",
       "      <td>0.792228</td>\n",
       "      <td>0.690132</td>\n",
       "      <td>0.684137</td>\n",
       "      <td>0.645365</td>\n",
       "      <td>0.882413</td>\n",
       "      <td>0.545871</td>\n",
       "      <td>1.000000</td>\n",
       "    </tr>\n",
       "  </tbody>\n",
       "</table>\n",
       "</div>"
      ],
      "text/plain": [
       "                   GRE Score  TOEFL Score  University Rating       SOP  \\\n",
       "GRE Score           1.000000     0.827200           0.635376  0.613498   \n",
       "TOEFL Score         0.827200     1.000000           0.649799  0.644410   \n",
       "University Rating   0.635376     0.649799           1.000000  0.728024   \n",
       "SOP                 0.613498     0.644410           0.728024  1.000000   \n",
       "LOR                 0.524679     0.541563           0.608651  0.663707   \n",
       "CGPA                0.825878     0.810574           0.705254  0.712154   \n",
       "Research            0.563398     0.467012           0.427047  0.408116   \n",
       "Chance of Admit     0.810351     0.792228           0.690132  0.684137   \n",
       "\n",
       "                        LOR      CGPA  Research  Chance of Admit  \n",
       "GRE Score          0.524679  0.825878  0.563398         0.810351  \n",
       "TOEFL Score        0.541563  0.810574  0.467012         0.792228  \n",
       "University Rating  0.608651  0.705254  0.427047         0.690132  \n",
       "SOP                0.663707  0.712154  0.408116         0.684137  \n",
       "LOR                1.000000  0.637469  0.372526         0.645365  \n",
       "CGPA               0.637469  1.000000  0.501311         0.882413  \n",
       "Research           0.372526  0.501311  1.000000         0.545871  \n",
       "Chance of Admit    0.645365  0.882413  0.545871         1.000000  "
      ]
     },
     "execution_count": 23,
     "metadata": {},
     "output_type": "execute_result"
    }
   ],
   "source": [
    "df.corr()"
   ]
  },
  {
   "cell_type": "code",
   "execution_count": 24,
   "id": "5abc1338",
   "metadata": {
    "scrolled": false
   },
   "outputs": [
    {
     "data": {
      "text/plain": [
       "<AxesSubplot:>"
      ]
     },
     "execution_count": 24,
     "metadata": {},
     "output_type": "execute_result"
    },
    {
     "data": {
      "image/png": "[encoded data removed]",
      "text/plain": [
       "<Figure size 432x288 with 2 Axes>"
      ]
     },
     "metadata": {
      "needs_background": "light"
     },
     "output_type": "display_data"
    }
   ],
   "source": [
    "sns.heatmap(df.corr(), annot = True)"
   ]
  },
  {
   "cell_type": "raw",
   "id": "6c483af1",
   "metadata": {},
   "source": [
    "From above heat map we can infer that \n",
    "    --> GRE,TOFEL,CGPA and chance of admit are highly correlated\n",
    "    --> University rating and SOP are highly correlated"
   ]
  },
  {
   "cell_type": "markdown",
   "id": "ba20015f",
   "metadata": {},
   "source": [
    "### Linear Regression"
   ]
  },
  {
   "cell_type": "code",
   "execution_count": 25,
   "id": "29dc056a",
   "metadata": {},
   "outputs": [
    {
     "data": {
      "text/plain": [
       "Index(['GRE Score', 'TOEFL Score', 'University Rating', 'SOP', 'LOR', 'CGPA',\n",
       "       'Research', 'Chance of Admit'],\n",
       "      dtype='object')"
      ]
     },
     "execution_count": 25,
     "metadata": {},
     "output_type": "execute_result"
    }
   ],
   "source": [
    "df.columns"
   ]
  },
  {
   "cell_type": "code",
   "execution_count": 26,
   "id": "6ba7d0cf",
   "metadata": {},
   "outputs": [
    {
     "data": {
      "text/html": [
       "<div>\n",
       "<style scoped>\n",
       "    .dataframe tbody tr th:only-of-type {\n",
       "        vertical-align: middle;\n",
       "    }\n",
       "\n",
       "    .dataframe tbody tr th {\n",
       "        vertical-align: top;\n",
       "    }\n",
       "\n",
       "    .dataframe thead th {\n",
       "        text-align: right;\n",
       "    }\n",
       "</style>\n",
       "<table border=\"1\" class=\"dataframe\">\n",
       "  <thead>\n",
       "    <tr style=\"text-align: right;\">\n",
       "      <th></th>\n",
       "      <th>GRE Score</th>\n",
       "      <th>TOEFL Score</th>\n",
       "      <th>University Rating</th>\n",
       "      <th>SOP</th>\n",
       "      <th>LOR</th>\n",
       "      <th>CGPA</th>\n",
       "      <th>Research</th>\n",
       "      <th>Chance of Admit</th>\n",
       "    </tr>\n",
       "  </thead>\n",
       "  <tbody>\n",
       "    <tr>\n",
       "      <th>0</th>\n",
       "      <td>337</td>\n",
       "      <td>118</td>\n",
       "      <td>4</td>\n",
       "      <td>4.5</td>\n",
       "      <td>4.5</td>\n",
       "      <td>9.65</td>\n",
       "      <td>1</td>\n",
       "      <td>0.92</td>\n",
       "    </tr>\n",
       "    <tr>\n",
       "      <th>1</th>\n",
       "      <td>324</td>\n",
       "      <td>107</td>\n",
       "      <td>4</td>\n",
       "      <td>4.0</td>\n",
       "      <td>4.5</td>\n",
       "      <td>8.87</td>\n",
       "      <td>1</td>\n",
       "      <td>0.76</td>\n",
       "    </tr>\n",
       "    <tr>\n",
       "      <th>2</th>\n",
       "      <td>316</td>\n",
       "      <td>104</td>\n",
       "      <td>3</td>\n",
       "      <td>3.0</td>\n",
       "      <td>3.5</td>\n",
       "      <td>8.00</td>\n",
       "      <td>1</td>\n",
       "      <td>0.72</td>\n",
       "    </tr>\n",
       "    <tr>\n",
       "      <th>3</th>\n",
       "      <td>322</td>\n",
       "      <td>110</td>\n",
       "      <td>3</td>\n",
       "      <td>3.5</td>\n",
       "      <td>2.5</td>\n",
       "      <td>8.67</td>\n",
       "      <td>1</td>\n",
       "      <td>0.80</td>\n",
       "    </tr>\n",
       "    <tr>\n",
       "      <th>4</th>\n",
       "      <td>314</td>\n",
       "      <td>103</td>\n",
       "      <td>2</td>\n",
       "      <td>2.0</td>\n",
       "      <td>3.0</td>\n",
       "      <td>8.21</td>\n",
       "      <td>0</td>\n",
       "      <td>0.65</td>\n",
       "    </tr>\n",
       "  </tbody>\n",
       "</table>\n",
       "</div>"
      ],
      "text/plain": [
       "   GRE Score  TOEFL Score  University Rating  SOP  LOR  CGPA  Research  \\\n",
       "0        337          118                  4  4.5  4.5  9.65         1   \n",
       "1        324          107                  4  4.0  4.5  8.87         1   \n",
       "2        316          104                  3  3.0  3.5  8.00         1   \n",
       "3        322          110                  3  3.5  2.5  8.67         1   \n",
       "4        314          103                  2  2.0  3.0  8.21         0   \n",
       "\n",
       "   Chance of Admit  \n",
       "0             0.92  \n",
       "1             0.76  \n",
       "2             0.72  \n",
       "3             0.80  \n",
       "4             0.65  "
      ]
     },
     "execution_count": 26,
     "metadata": {},
     "output_type": "execute_result"
    }
   ],
   "source": [
    "df.head()"
   ]
  },
  {
   "cell_type": "code",
   "execution_count": 27,
   "id": "08680279",
   "metadata": {},
   "outputs": [],
   "source": [
    "## Target Feature\n",
    "predict = df['Chance of Admit']"
   ]
  },
  {
   "cell_type": "code",
   "execution_count": 28,
   "id": "a7af1620",
   "metadata": {},
   "outputs": [],
   "source": [
    "## dropping target column from dataframe\n",
    "df.drop(['Chance of Admit'],axis=1,inplace=True)"
   ]
  },
  {
   "cell_type": "code",
   "execution_count": 29,
   "id": "abc1cad4",
   "metadata": {},
   "outputs": [
    {
     "data": {
      "text/html": [
       "<div>\n",
       "<style scoped>\n",
       "    .dataframe tbody tr th:only-of-type {\n",
       "        vertical-align: middle;\n",
       "    }\n",
       "\n",
       "    .dataframe tbody tr th {\n",
       "        vertical-align: top;\n",
       "    }\n",
       "\n",
       "    .dataframe thead th {\n",
       "        text-align: right;\n",
       "    }\n",
       "</style>\n",
       "<table border=\"1\" class=\"dataframe\">\n",
       "  <thead>\n",
       "    <tr style=\"text-align: right;\">\n",
       "      <th></th>\n",
       "      <th>GRE Score</th>\n",
       "      <th>TOEFL Score</th>\n",
       "      <th>University Rating</th>\n",
       "      <th>SOP</th>\n",
       "      <th>LOR</th>\n",
       "      <th>CGPA</th>\n",
       "      <th>Research</th>\n",
       "    </tr>\n",
       "  </thead>\n",
       "  <tbody>\n",
       "    <tr>\n",
       "      <th>0</th>\n",
       "      <td>337</td>\n",
       "      <td>118</td>\n",
       "      <td>4</td>\n",
       "      <td>4.5</td>\n",
       "      <td>4.5</td>\n",
       "      <td>9.65</td>\n",
       "      <td>1</td>\n",
       "    </tr>\n",
       "    <tr>\n",
       "      <th>1</th>\n",
       "      <td>324</td>\n",
       "      <td>107</td>\n",
       "      <td>4</td>\n",
       "      <td>4.0</td>\n",
       "      <td>4.5</td>\n",
       "      <td>8.87</td>\n",
       "      <td>1</td>\n",
       "    </tr>\n",
       "    <tr>\n",
       "      <th>2</th>\n",
       "      <td>316</td>\n",
       "      <td>104</td>\n",
       "      <td>3</td>\n",
       "      <td>3.0</td>\n",
       "      <td>3.5</td>\n",
       "      <td>8.00</td>\n",
       "      <td>1</td>\n",
       "    </tr>\n",
       "    <tr>\n",
       "      <th>3</th>\n",
       "      <td>322</td>\n",
       "      <td>110</td>\n",
       "      <td>3</td>\n",
       "      <td>3.5</td>\n",
       "      <td>2.5</td>\n",
       "      <td>8.67</td>\n",
       "      <td>1</td>\n",
       "    </tr>\n",
       "    <tr>\n",
       "      <th>4</th>\n",
       "      <td>314</td>\n",
       "      <td>103</td>\n",
       "      <td>2</td>\n",
       "      <td>2.0</td>\n",
       "      <td>3.0</td>\n",
       "      <td>8.21</td>\n",
       "      <td>0</td>\n",
       "    </tr>\n",
       "  </tbody>\n",
       "</table>\n",
       "</div>"
      ],
      "text/plain": [
       "   GRE Score  TOEFL Score  University Rating  SOP  LOR  CGPA  Research\n",
       "0        337          118                  4  4.5  4.5  9.65         1\n",
       "1        324          107                  4  4.0  4.5  8.87         1\n",
       "2        316          104                  3  3.0  3.5  8.00         1\n",
       "3        322          110                  3  3.5  2.5  8.67         1\n",
       "4        314          103                  2  2.0  3.0  8.21         0"
      ]
     },
     "execution_count": 29,
     "metadata": {},
     "output_type": "execute_result"
    }
   ],
   "source": [
    "df.head()"
   ]
  },
  {
   "cell_type": "code",
   "execution_count": 30,
   "id": "65684797",
   "metadata": {},
   "outputs": [
    {
     "data": {
      "text/html": [
       "<div>\n",
       "<style scoped>\n",
       "    .dataframe tbody tr th:only-of-type {\n",
       "        vertical-align: middle;\n",
       "    }\n",
       "\n",
       "    .dataframe tbody tr th {\n",
       "        vertical-align: top;\n",
       "    }\n",
       "\n",
       "    .dataframe thead th {\n",
       "        text-align: right;\n",
       "    }\n",
       "</style>\n",
       "<table border=\"1\" class=\"dataframe\">\n",
       "  <thead>\n",
       "    <tr style=\"text-align: right;\">\n",
       "      <th></th>\n",
       "      <th>GRE Score</th>\n",
       "      <th>TOEFL Score</th>\n",
       "      <th>University Rating</th>\n",
       "      <th>SOP</th>\n",
       "      <th>LOR</th>\n",
       "      <th>CGPA</th>\n",
       "      <th>Research</th>\n",
       "    </tr>\n",
       "  </thead>\n",
       "  <tbody>\n",
       "    <tr>\n",
       "      <th>0</th>\n",
       "      <td>0.94</td>\n",
       "      <td>0.928571</td>\n",
       "      <td>0.75</td>\n",
       "      <td>0.875</td>\n",
       "      <td>0.875</td>\n",
       "      <td>0.913462</td>\n",
       "      <td>1.0</td>\n",
       "    </tr>\n",
       "    <tr>\n",
       "      <th>1</th>\n",
       "      <td>0.68</td>\n",
       "      <td>0.535714</td>\n",
       "      <td>0.75</td>\n",
       "      <td>0.750</td>\n",
       "      <td>0.875</td>\n",
       "      <td>0.663462</td>\n",
       "      <td>1.0</td>\n",
       "    </tr>\n",
       "    <tr>\n",
       "      <th>2</th>\n",
       "      <td>0.52</td>\n",
       "      <td>0.428571</td>\n",
       "      <td>0.50</td>\n",
       "      <td>0.500</td>\n",
       "      <td>0.625</td>\n",
       "      <td>0.384615</td>\n",
       "      <td>1.0</td>\n",
       "    </tr>\n",
       "    <tr>\n",
       "      <th>3</th>\n",
       "      <td>0.64</td>\n",
       "      <td>0.642857</td>\n",
       "      <td>0.50</td>\n",
       "      <td>0.625</td>\n",
       "      <td>0.375</td>\n",
       "      <td>0.599359</td>\n",
       "      <td>1.0</td>\n",
       "    </tr>\n",
       "    <tr>\n",
       "      <th>4</th>\n",
       "      <td>0.48</td>\n",
       "      <td>0.392857</td>\n",
       "      <td>0.25</td>\n",
       "      <td>0.250</td>\n",
       "      <td>0.500</td>\n",
       "      <td>0.451923</td>\n",
       "      <td>0.0</td>\n",
       "    </tr>\n",
       "  </tbody>\n",
       "</table>\n",
       "</div>"
      ],
      "text/plain": [
       "   GRE Score  TOEFL Score  University Rating    SOP    LOR      CGPA  Research\n",
       "0       0.94     0.928571               0.75  0.875  0.875  0.913462       1.0\n",
       "1       0.68     0.535714               0.75  0.750  0.875  0.663462       1.0\n",
       "2       0.52     0.428571               0.50  0.500  0.625  0.384615       1.0\n",
       "3       0.64     0.642857               0.50  0.625  0.375  0.599359       1.0\n",
       "4       0.48     0.392857               0.25  0.250  0.500  0.451923       0.0"
      ]
     },
     "execution_count": 30,
     "metadata": {},
     "output_type": "execute_result"
    }
   ],
   "source": [
    "# Normalisation\n",
    "df.columns\n",
    "for i in df.columns:\n",
    "    df[i] = minmax_scale(df[i])\n",
    "df.head()"
   ]
  },
  {
   "cell_type": "code",
   "execution_count": 31,
   "id": "acfd39b4",
   "metadata": {},
   "outputs": [],
   "source": [
    "predict = pd.DataFrame(predict,columns=['Chance of Admit'])"
   ]
  },
  {
   "cell_type": "code",
   "execution_count": 32,
   "id": "dc75fc2b",
   "metadata": {
    "scrolled": true
   },
   "outputs": [],
   "source": [
    "#Normalisation of target feature\n",
    "predict['Chance of Admit'] = minmax_scale(predict['Chance of Admit'])"
   ]
  },
  {
   "cell_type": "code",
   "execution_count": 33,
   "id": "9c24f1d3",
   "metadata": {},
   "outputs": [
    {
     "data": {
      "text/html": [
       "<div>\n",
       "<style scoped>\n",
       "    .dataframe tbody tr th:only-of-type {\n",
       "        vertical-align: middle;\n",
       "    }\n",
       "\n",
       "    .dataframe tbody tr th {\n",
       "        vertical-align: top;\n",
       "    }\n",
       "\n",
       "    .dataframe thead th {\n",
       "        text-align: right;\n",
       "    }\n",
       "</style>\n",
       "<table border=\"1\" class=\"dataframe\">\n",
       "  <thead>\n",
       "    <tr style=\"text-align: right;\">\n",
       "      <th></th>\n",
       "      <th>Chance of Admit</th>\n",
       "    </tr>\n",
       "  </thead>\n",
       "  <tbody>\n",
       "    <tr>\n",
       "      <th>0</th>\n",
       "      <td>0.920635</td>\n",
       "    </tr>\n",
       "    <tr>\n",
       "      <th>1</th>\n",
       "      <td>0.666667</td>\n",
       "    </tr>\n",
       "    <tr>\n",
       "      <th>2</th>\n",
       "      <td>0.603175</td>\n",
       "    </tr>\n",
       "    <tr>\n",
       "      <th>3</th>\n",
       "      <td>0.730159</td>\n",
       "    </tr>\n",
       "    <tr>\n",
       "      <th>4</th>\n",
       "      <td>0.492063</td>\n",
       "    </tr>\n",
       "  </tbody>\n",
       "</table>\n",
       "</div>"
      ],
      "text/plain": [
       "   Chance of Admit\n",
       "0         0.920635\n",
       "1         0.666667\n",
       "2         0.603175\n",
       "3         0.730159\n",
       "4         0.492063"
      ]
     },
     "execution_count": 33,
     "metadata": {},
     "output_type": "execute_result"
    }
   ],
   "source": [
    "predict.head()"
   ]
  },
  {
   "cell_type": "code",
   "execution_count": 34,
   "id": "24ec3bb7",
   "metadata": {},
   "outputs": [],
   "source": [
    "#Train and Test data split\n",
    "x_train,x_test,y_train,y_test = train_test_split(df,predict,train_size=0.30,random_state=1)"
   ]
  },
  {
   "cell_type": "code",
   "execution_count": 35,
   "id": "2c1dde3b",
   "metadata": {},
   "outputs": [
    {
     "data": {
      "text/html": [
       "<div>\n",
       "<style scoped>\n",
       "    .dataframe tbody tr th:only-of-type {\n",
       "        vertical-align: middle;\n",
       "    }\n",
       "\n",
       "    .dataframe tbody tr th {\n",
       "        vertical-align: top;\n",
       "    }\n",
       "\n",
       "    .dataframe thead th {\n",
       "        text-align: right;\n",
       "    }\n",
       "</style>\n",
       "<table border=\"1\" class=\"dataframe\">\n",
       "  <thead>\n",
       "    <tr style=\"text-align: right;\">\n",
       "      <th></th>\n",
       "      <th>GRE Score</th>\n",
       "      <th>TOEFL Score</th>\n",
       "      <th>University Rating</th>\n",
       "      <th>SOP</th>\n",
       "      <th>LOR</th>\n",
       "      <th>CGPA</th>\n",
       "      <th>Research</th>\n",
       "    </tr>\n",
       "  </thead>\n",
       "  <tbody>\n",
       "    <tr>\n",
       "      <th>409</th>\n",
       "      <td>0.20</td>\n",
       "      <td>0.214286</td>\n",
       "      <td>0.00</td>\n",
       "      <td>0.250</td>\n",
       "      <td>0.375</td>\n",
       "      <td>0.391026</td>\n",
       "      <td>0.0</td>\n",
       "    </tr>\n",
       "    <tr>\n",
       "      <th>103</th>\n",
       "      <td>0.54</td>\n",
       "      <td>0.428571</td>\n",
       "      <td>0.25</td>\n",
       "      <td>0.875</td>\n",
       "      <td>0.750</td>\n",
       "      <td>0.535256</td>\n",
       "      <td>0.0</td>\n",
       "    </tr>\n",
       "    <tr>\n",
       "      <th>220</th>\n",
       "      <td>0.46</td>\n",
       "      <td>0.392857</td>\n",
       "      <td>0.50</td>\n",
       "      <td>0.750</td>\n",
       "      <td>0.750</td>\n",
       "      <td>0.625000</td>\n",
       "      <td>0.0</td>\n",
       "    </tr>\n",
       "    <tr>\n",
       "      <th>130</th>\n",
       "      <td>0.98</td>\n",
       "      <td>0.785714</td>\n",
       "      <td>1.00</td>\n",
       "      <td>0.750</td>\n",
       "      <td>0.875</td>\n",
       "      <td>0.948718</td>\n",
       "      <td>1.0</td>\n",
       "    </tr>\n",
       "    <tr>\n",
       "      <th>353</th>\n",
       "      <td>0.20</td>\n",
       "      <td>0.357143</td>\n",
       "      <td>0.50</td>\n",
       "      <td>0.625</td>\n",
       "      <td>0.375</td>\n",
       "      <td>0.439103</td>\n",
       "      <td>0.0</td>\n",
       "    </tr>\n",
       "  </tbody>\n",
       "</table>\n",
       "</div>"
      ],
      "text/plain": [
       "     GRE Score  TOEFL Score  University Rating    SOP    LOR      CGPA  \\\n",
       "409       0.20     0.214286               0.00  0.250  0.375  0.391026   \n",
       "103       0.54     0.428571               0.25  0.875  0.750  0.535256   \n",
       "220       0.46     0.392857               0.50  0.750  0.750  0.625000   \n",
       "130       0.98     0.785714               1.00  0.750  0.875  0.948718   \n",
       "353       0.20     0.357143               0.50  0.625  0.375  0.439103   \n",
       "\n",
       "     Research  \n",
       "409       0.0  \n",
       "103       0.0  \n",
       "220       0.0  \n",
       "130       1.0  \n",
       "353       0.0  "
      ]
     },
     "execution_count": 35,
     "metadata": {},
     "output_type": "execute_result"
    }
   ],
   "source": [
    "x_train.head()"
   ]
  },
  {
   "cell_type": "code",
   "execution_count": 36,
   "id": "bebccd1f",
   "metadata": {},
   "outputs": [],
   "source": [
    "lr_1 = LinearRegression()"
   ]
  },
  {
   "cell_type": "code",
   "execution_count": 37,
   "id": "fe7a15a7",
   "metadata": {},
   "outputs": [
    {
     "data": {
      "text/plain": [
       "LinearRegression()"
      ]
     },
     "execution_count": 37,
     "metadata": {},
     "output_type": "execute_result"
    }
   ],
   "source": [
    "lr_1.fit(x_train,y_train)"
   ]
  },
  {
   "cell_type": "code",
   "execution_count": 38,
   "id": "9bc113f8",
   "metadata": {},
   "outputs": [],
   "source": [
    "y_predict = lr_1.predict(x_test)"
   ]
  },
  {
   "cell_type": "code",
   "execution_count": 39,
   "id": "6b62ce8c",
   "metadata": {},
   "outputs": [
    {
     "data": {
      "text/plain": [
       "array([0.06052024])"
      ]
     },
     "execution_count": 39,
     "metadata": {},
     "output_type": "execute_result"
    }
   ],
   "source": [
    "lr_1.intercept_"
   ]
  },
  {
   "cell_type": "code",
   "execution_count": 40,
   "id": "3043bbfc",
   "metadata": {},
   "outputs": [
    {
     "name": "stdout",
     "output_type": "stream",
     "text": [
      "The coefficient for GRE Score is -0.0050978648509186104\n",
      "The coefficient for TOEFL Score is 0.21669717001842637\n",
      "The coefficient for University Rating is 0.05851981351758148\n",
      "The coefficient for SOP is 0.03264096702009038\n",
      "The coefficient for LOR is 0.03798672416464777\n",
      "The coefficient for CGPA is 0.591252249663798\n",
      "The coefficient for Research is 0.05080772261800126\n"
     ]
    }
   ],
   "source": [
    "for idx, col_name in enumerate(x_train.columns):\n",
    "    print(\"The coefficient for {} is {}\".format(col_name, lr_1.coef_[0][idx]))"
   ]
  },
  {
   "cell_type": "code",
   "execution_count": 41,
   "id": "3460361c",
   "metadata": {},
   "outputs": [
    {
     "name": "stdout",
     "output_type": "stream",
     "text": [
      "The intercept for our model is 0.060520238439629614\n"
     ]
    }
   ],
   "source": [
    "intercept = lr_1.intercept_[0]\n",
    "print(\"The intercept for our model is {}\".format(intercept))"
   ]
  },
  {
   "cell_type": "markdown",
   "id": "02729c02",
   "metadata": {},
   "source": [
    "### Ridge"
   ]
  },
  {
   "cell_type": "code",
   "execution_count": 42,
   "id": "436cabde",
   "metadata": {},
   "outputs": [],
   "source": [
    "ridge = Ridge() # initializing the model"
   ]
  },
  {
   "cell_type": "code",
   "execution_count": 43,
   "id": "97d3f462",
   "metadata": {},
   "outputs": [],
   "source": [
    "params = {'alpha': [0.0001, 0.001, 0.01, 0.05, 0.1, \n",
    " 0.2, 0.3, 0.4, 0.5, 0.6, 0.7, 0.8, 0.9, 1.0, 2.0, 3.0, 4.0,5.0]} ## Parameters for alpha to select the best parameter"
   ]
  },
  {
   "cell_type": "code",
   "execution_count": 44,
   "id": "43fd84ce",
   "metadata": {},
   "outputs": [],
   "source": [
    "folds = 5 #total number of crossvaldations to be done during the model building"
   ]
  },
  {
   "cell_type": "code",
   "execution_count": 45,
   "id": "cc901876",
   "metadata": {},
   "outputs": [],
   "source": [
    "model_cv = GridSearchCV(estimator = ridge, \n",
    "                        param_grid = params, \n",
    "                        scoring= 'neg_mean_absolute_error', \n",
    "                        cv = folds, \n",
    "                        return_train_score=True,\n",
    "                        verbose = 1)  "
   ]
  },
  {
   "cell_type": "code",
   "execution_count": 46,
   "id": "e728f675",
   "metadata": {},
   "outputs": [
    {
     "name": "stdout",
     "output_type": "stream",
     "text": [
      "Fitting 5 folds for each of 18 candidates, totalling 90 fits\n"
     ]
    },
    {
     "data": {
      "text/plain": [
       "GridSearchCV(cv=5, estimator=Ridge(),\n",
       "             param_grid={'alpha': [0.0001, 0.001, 0.01, 0.05, 0.1, 0.2, 0.3,\n",
       "                                   0.4, 0.5, 0.6, 0.7, 0.8, 0.9, 1.0, 2.0, 3.0,\n",
       "                                   4.0, 5.0]},\n",
       "             return_train_score=True, scoring='neg_mean_absolute_error',\n",
       "             verbose=1)"
      ]
     },
     "execution_count": 46,
     "metadata": {},
     "output_type": "execute_result"
    }
   ],
   "source": [
    "model_cv.fit(x_train, y_train) # fit the model"
   ]
  },
  {
   "cell_type": "code",
   "execution_count": 47,
   "id": "38862147",
   "metadata": {
    "scrolled": true
   },
   "outputs": [
    {
     "data": {
      "text/html": [
       "<div>\n",
       "<style scoped>\n",
       "    .dataframe tbody tr th:only-of-type {\n",
       "        vertical-align: middle;\n",
       "    }\n",
       "\n",
       "    .dataframe tbody tr th {\n",
       "        vertical-align: top;\n",
       "    }\n",
       "\n",
       "    .dataframe thead th {\n",
       "        text-align: right;\n",
       "    }\n",
       "</style>\n",
       "<table border=\"1\" class=\"dataframe\">\n",
       "  <thead>\n",
       "    <tr style=\"text-align: right;\">\n",
       "      <th></th>\n",
       "      <th>mean_fit_time</th>\n",
       "      <th>std_fit_time</th>\n",
       "      <th>mean_score_time</th>\n",
       "      <th>std_score_time</th>\n",
       "      <th>param_alpha</th>\n",
       "      <th>params</th>\n",
       "      <th>split0_test_score</th>\n",
       "      <th>split1_test_score</th>\n",
       "      <th>split2_test_score</th>\n",
       "      <th>split3_test_score</th>\n",
       "      <th>...</th>\n",
       "      <th>mean_test_score</th>\n",
       "      <th>std_test_score</th>\n",
       "      <th>rank_test_score</th>\n",
       "      <th>split0_train_score</th>\n",
       "      <th>split1_train_score</th>\n",
       "      <th>split2_train_score</th>\n",
       "      <th>split3_train_score</th>\n",
       "      <th>split4_train_score</th>\n",
       "      <th>mean_train_score</th>\n",
       "      <th>std_train_score</th>\n",
       "    </tr>\n",
       "  </thead>\n",
       "  <tbody>\n",
       "    <tr>\n",
       "      <th>0</th>\n",
       "      <td>0.007201</td>\n",
       "      <td>0.001834</td>\n",
       "      <td>0.004627</td>\n",
       "      <td>0.001250</td>\n",
       "      <td>0.0001</td>\n",
       "      <td>{'alpha': 0.0001}</td>\n",
       "      <td>-0.091895</td>\n",
       "      <td>-0.073503</td>\n",
       "      <td>-0.075164</td>\n",
       "      <td>-0.063529</td>\n",
       "      <td>...</td>\n",
       "      <td>-0.073154</td>\n",
       "      <td>0.010767</td>\n",
       "      <td>12</td>\n",
       "      <td>-0.060991</td>\n",
       "      <td>-0.068404</td>\n",
       "      <td>-0.066560</td>\n",
       "      <td>-0.069797</td>\n",
       "      <td>-0.069792</td>\n",
       "      <td>-0.067109</td>\n",
       "      <td>0.003281</td>\n",
       "    </tr>\n",
       "    <tr>\n",
       "      <th>1</th>\n",
       "      <td>0.007750</td>\n",
       "      <td>0.005073</td>\n",
       "      <td>0.003419</td>\n",
       "      <td>0.003326</td>\n",
       "      <td>0.001</td>\n",
       "      <td>{'alpha': 0.001}</td>\n",
       "      <td>-0.091907</td>\n",
       "      <td>-0.073476</td>\n",
       "      <td>-0.075160</td>\n",
       "      <td>-0.063514</td>\n",
       "      <td>...</td>\n",
       "      <td>-0.073147</td>\n",
       "      <td>0.010775</td>\n",
       "      <td>11</td>\n",
       "      <td>-0.060993</td>\n",
       "      <td>-0.068400</td>\n",
       "      <td>-0.066558</td>\n",
       "      <td>-0.069794</td>\n",
       "      <td>-0.069790</td>\n",
       "      <td>-0.067107</td>\n",
       "      <td>0.003279</td>\n",
       "    </tr>\n",
       "    <tr>\n",
       "      <th>2</th>\n",
       "      <td>0.000000</td>\n",
       "      <td>0.000000</td>\n",
       "      <td>0.006252</td>\n",
       "      <td>0.007658</td>\n",
       "      <td>0.01</td>\n",
       "      <td>{'alpha': 0.01}</td>\n",
       "      <td>-0.092031</td>\n",
       "      <td>-0.073211</td>\n",
       "      <td>-0.075122</td>\n",
       "      <td>-0.063371</td>\n",
       "      <td>...</td>\n",
       "      <td>-0.073078</td>\n",
       "      <td>0.010845</td>\n",
       "      <td>10</td>\n",
       "      <td>-0.061018</td>\n",
       "      <td>-0.068365</td>\n",
       "      <td>-0.066541</td>\n",
       "      <td>-0.069764</td>\n",
       "      <td>-0.069762</td>\n",
       "      <td>-0.067090</td>\n",
       "      <td>0.003259</td>\n",
       "    </tr>\n",
       "    <tr>\n",
       "      <th>3</th>\n",
       "      <td>0.003126</td>\n",
       "      <td>0.006252</td>\n",
       "      <td>0.003125</td>\n",
       "      <td>0.006250</td>\n",
       "      <td>0.05</td>\n",
       "      <td>{'alpha': 0.05}</td>\n",
       "      <td>-0.092555</td>\n",
       "      <td>-0.072098</td>\n",
       "      <td>-0.074962</td>\n",
       "      <td>-0.062793</td>\n",
       "      <td>...</td>\n",
       "      <td>-0.072796</td>\n",
       "      <td>0.011151</td>\n",
       "      <td>8</td>\n",
       "      <td>-0.061149</td>\n",
       "      <td>-0.068228</td>\n",
       "      <td>-0.066492</td>\n",
       "      <td>-0.069677</td>\n",
       "      <td>-0.069725</td>\n",
       "      <td>-0.067054</td>\n",
       "      <td>0.003181</td>\n",
       "    </tr>\n",
       "    <tr>\n",
       "      <th>4</th>\n",
       "      <td>0.007425</td>\n",
       "      <td>0.005962</td>\n",
       "      <td>0.004122</td>\n",
       "      <td>0.002295</td>\n",
       "      <td>0.1</td>\n",
       "      <td>{'alpha': 0.1}</td>\n",
       "      <td>-0.093160</td>\n",
       "      <td>-0.070839</td>\n",
       "      <td>-0.074785</td>\n",
       "      <td>-0.062194</td>\n",
       "      <td>...</td>\n",
       "      <td>-0.072490</td>\n",
       "      <td>0.011513</td>\n",
       "      <td>5</td>\n",
       "      <td>-0.061304</td>\n",
       "      <td>-0.068114</td>\n",
       "      <td>-0.066477</td>\n",
       "      <td>-0.069627</td>\n",
       "      <td>-0.069765</td>\n",
       "      <td>-0.067057</td>\n",
       "      <td>0.003114</td>\n",
       "    </tr>\n",
       "  </tbody>\n",
       "</table>\n",
       "<p>5 rows × 21 columns</p>\n",
       "</div>"
      ],
      "text/plain": [
       "   mean_fit_time  std_fit_time  mean_score_time  std_score_time param_alpha  \\\n",
       "0       0.007201      0.001834         0.004627        0.001250      0.0001   \n",
       "1       0.007750      0.005073         0.003419        0.003326       0.001   \n",
       "2       0.000000      0.000000         0.006252        0.007658        0.01   \n",
       "3       0.003126      0.006252         0.003125        0.006250        0.05   \n",
       "4       0.007425      0.005962         0.004122        0.002295         0.1   \n",
       "\n",
       "              params  split0_test_score  split1_test_score  split2_test_score  \\\n",
       "0  {'alpha': 0.0001}          -0.091895          -0.073503          -0.075164   \n",
       "1   {'alpha': 0.001}          -0.091907          -0.073476          -0.075160   \n",
       "2    {'alpha': 0.01}          -0.092031          -0.073211          -0.075122   \n",
       "3    {'alpha': 0.05}          -0.092555          -0.072098          -0.074962   \n",
       "4     {'alpha': 0.1}          -0.093160          -0.070839          -0.074785   \n",
       "\n",
       "   split3_test_score  ...  mean_test_score  std_test_score  rank_test_score  \\\n",
       "0          -0.063529  ...        -0.073154        0.010767               12   \n",
       "1          -0.063514  ...        -0.073147        0.010775               11   \n",
       "2          -0.063371  ...        -0.073078        0.010845               10   \n",
       "3          -0.062793  ...        -0.072796        0.011151                8   \n",
       "4          -0.062194  ...        -0.072490        0.011513                5   \n",
       "\n",
       "   split0_train_score  split1_train_score  split2_train_score  \\\n",
       "0           -0.060991           -0.068404           -0.066560   \n",
       "1           -0.060993           -0.068400           -0.066558   \n",
       "2           -0.061018           -0.068365           -0.066541   \n",
       "3           -0.061149           -0.068228           -0.066492   \n",
       "4           -0.061304           -0.068114           -0.066477   \n",
       "\n",
       "   split3_train_score  split4_train_score  mean_train_score  std_train_score  \n",
       "0           -0.069797           -0.069792         -0.067109         0.003281  \n",
       "1           -0.069794           -0.069790         -0.067107         0.003279  \n",
       "2           -0.069764           -0.069762         -0.067090         0.003259  \n",
       "3           -0.069677           -0.069725         -0.067054         0.003181  \n",
       "4           -0.069627           -0.069765         -0.067057         0.003114  \n",
       "\n",
       "[5 rows x 21 columns]"
      ]
     },
     "execution_count": 47,
     "metadata": {},
     "output_type": "execute_result"
    }
   ],
   "source": [
    "cv_results = pd.DataFrame(model_cv.cv_results_) # to get the output of the model\n",
    "cv_results = cv_results[cv_results['param_alpha']<=200] \n",
    "cv_results.head()"
   ]
  },
  {
   "cell_type": "code",
   "execution_count": 48,
   "id": "728affbc",
   "metadata": {},
   "outputs": [
    {
     "data": {
      "text/plain": [
       "Index(['mean_fit_time', 'std_fit_time', 'mean_score_time', 'std_score_time',\n",
       "       'param_alpha', 'params', 'split0_test_score', 'split1_test_score',\n",
       "       'split2_test_score', 'split3_test_score', 'split4_test_score',\n",
       "       'mean_test_score', 'std_test_score', 'rank_test_score',\n",
       "       'split0_train_score', 'split1_train_score', 'split2_train_score',\n",
       "       'split3_train_score', 'split4_train_score', 'mean_train_score',\n",
       "       'std_train_score'],\n",
       "      dtype='object')"
      ]
     },
     "execution_count": 48,
     "metadata": {},
     "output_type": "execute_result"
    }
   ],
   "source": [
    "cv_results.columns"
   ]
  },
  {
   "cell_type": "raw",
   "id": "50fe3820",
   "metadata": {},
   "source": [
    "Here we have the scores for each test and train split, as we gave cross validation as 5 there are 5 train and test splits along with the ranks for each alpha"
   ]
  },
  {
   "cell_type": "code",
   "execution_count": 49,
   "id": "4e01d6ed",
   "metadata": {},
   "outputs": [
    {
     "data": {
      "image/png": "[encoded data removed]",
      "text/plain": [
       "<Figure size 432x288 with 1 Axes>"
      ]
     },
     "metadata": {
      "needs_background": "light"
     },
     "output_type": "display_data"
    }
   ],
   "source": [
    "# plotting mean test and train scoes with alpha \n",
    "cv_results['param_alpha'] = cv_results['param_alpha'].astype('int32')\n",
    "\n",
    "# plotting\n",
    "plt.plot(cv_results['param_alpha'], cv_results['mean_train_score'])\n",
    "plt.plot(cv_results['param_alpha'], cv_results['mean_test_score'])\n",
    "plt.xlabel('alpha')\n",
    "plt.ylabel('Negative Mean Absolute Error')\n",
    "plt.title(\"Negative Mean Absolute Error and alpha\")\n",
    "plt.legend(['train score', 'test score'], loc='upper right')\n",
    "plt.show()"
   ]
  },
  {
   "cell_type": "code",
   "execution_count": 50,
   "id": "27bc6052",
   "metadata": {},
   "outputs": [
    {
     "data": {
      "text/plain": [
       "array([[0.10754325, 0.20096854, 0.06723524, 0.06535809, 0.0690688 ,\n",
       "        0.3543325 , 0.0545913 ]])"
      ]
     },
     "execution_count": 50,
     "metadata": {},
     "output_type": "execute_result"
    }
   ],
   "source": [
    "alpha = 1\n",
    "ridge = Ridge(alpha=alpha)\n",
    "\n",
    "ridge.fit(x_train, y_train)\n",
    "ridge.coef_"
   ]
  },
  {
   "cell_type": "markdown",
   "id": "630c7850",
   "metadata": {},
   "source": [
    "### Lasso"
   ]
  },
  {
   "cell_type": "code",
   "execution_count": 51,
   "id": "b4722dde",
   "metadata": {},
   "outputs": [],
   "source": [
    "params = {'alpha': [0.0001, 0.001, 0.01, 0.05, 0.1, \n",
    " 0.2, 0.3, 0.4, 0.5, 0.6, 0.7, 0.8, 0.9, 1.0]}"
   ]
  },
  {
   "cell_type": "code",
   "execution_count": 52,
   "id": "343bc741",
   "metadata": {},
   "outputs": [
    {
     "name": "stdout",
     "output_type": "stream",
     "text": [
      "Fitting 5 folds for each of 14 candidates, totalling 70 fits\n"
     ]
    },
    {
     "data": {
      "text/plain": [
       "GridSearchCV(cv=5, estimator=Lasso(),\n",
       "             param_grid={'alpha': [0.0001, 0.001, 0.01, 0.05, 0.1, 0.2, 0.3,\n",
       "                                   0.4, 0.5, 0.6, 0.7, 0.8, 0.9, 1.0]},\n",
       "             return_train_score=True, scoring='neg_mean_absolute_error',\n",
       "             verbose=1)"
      ]
     },
     "execution_count": 52,
     "metadata": {},
     "output_type": "execute_result"
    }
   ],
   "source": [
    "lasso = Lasso()\n",
    "\n",
    "# cross validation\n",
    "model_cv = GridSearchCV(estimator = lasso, \n",
    "                        param_grid = params, \n",
    "                        scoring= 'neg_mean_absolute_error', \n",
    "                        cv = folds, \n",
    "                        return_train_score=True,\n",
    "                        verbose = 1)            \n",
    "\n",
    "model_cv.fit(x_train, y_train) "
   ]
  },
  {
   "cell_type": "code",
   "execution_count": 53,
   "id": "3d61c2ea",
   "metadata": {},
   "outputs": [
    {
     "data": {
      "text/html": [
       "<div>\n",
       "<style scoped>\n",
       "    .dataframe tbody tr th:only-of-type {\n",
       "        vertical-align: middle;\n",
       "    }\n",
       "\n",
       "    .dataframe tbody tr th {\n",
       "        vertical-align: top;\n",
       "    }\n",
       "\n",
       "    .dataframe thead th {\n",
       "        text-align: right;\n",
       "    }\n",
       "</style>\n",
       "<table border=\"1\" class=\"dataframe\">\n",
       "  <thead>\n",
       "    <tr style=\"text-align: right;\">\n",
       "      <th></th>\n",
       "      <th>mean_fit_time</th>\n",
       "      <th>std_fit_time</th>\n",
       "      <th>mean_score_time</th>\n",
       "      <th>std_score_time</th>\n",
       "      <th>param_alpha</th>\n",
       "      <th>params</th>\n",
       "      <th>split0_test_score</th>\n",
       "      <th>split1_test_score</th>\n",
       "      <th>split2_test_score</th>\n",
       "      <th>split3_test_score</th>\n",
       "      <th>...</th>\n",
       "      <th>mean_test_score</th>\n",
       "      <th>std_test_score</th>\n",
       "      <th>rank_test_score</th>\n",
       "      <th>split0_train_score</th>\n",
       "      <th>split1_train_score</th>\n",
       "      <th>split2_train_score</th>\n",
       "      <th>split3_train_score</th>\n",
       "      <th>split4_train_score</th>\n",
       "      <th>mean_train_score</th>\n",
       "      <th>std_train_score</th>\n",
       "    </tr>\n",
       "  </thead>\n",
       "  <tbody>\n",
       "    <tr>\n",
       "      <th>0</th>\n",
       "      <td>0.004125</td>\n",
       "      <td>0.006066</td>\n",
       "      <td>0.007277</td>\n",
       "      <td>0.007109</td>\n",
       "      <td>0.0001</td>\n",
       "      <td>{'alpha': 0.0001}</td>\n",
       "      <td>-0.092157</td>\n",
       "      <td>-0.072387</td>\n",
       "      <td>-0.075086</td>\n",
       "      <td>-0.062701</td>\n",
       "      <td>...</td>\n",
       "      <td>-0.072802</td>\n",
       "      <td>0.011007</td>\n",
       "      <td>2</td>\n",
       "      <td>-0.061005</td>\n",
       "      <td>-0.068378</td>\n",
       "      <td>-0.066512</td>\n",
       "      <td>-0.069583</td>\n",
       "      <td>-0.069793</td>\n",
       "      <td>-0.067054</td>\n",
       "      <td>0.003242</td>\n",
       "    </tr>\n",
       "    <tr>\n",
       "      <th>1</th>\n",
       "      <td>0.006106</td>\n",
       "      <td>0.005892</td>\n",
       "      <td>0.001620</td>\n",
       "      <td>0.001984</td>\n",
       "      <td>0.001</td>\n",
       "      <td>{'alpha': 0.001}</td>\n",
       "      <td>-0.094912</td>\n",
       "      <td>-0.069379</td>\n",
       "      <td>-0.074558</td>\n",
       "      <td>-0.061633</td>\n",
       "      <td>...</td>\n",
       "      <td>-0.072382</td>\n",
       "      <td>0.012303</td>\n",
       "      <td>1</td>\n",
       "      <td>-0.061230</td>\n",
       "      <td>-0.068353</td>\n",
       "      <td>-0.066334</td>\n",
       "      <td>-0.069349</td>\n",
       "      <td>-0.070202</td>\n",
       "      <td>-0.067094</td>\n",
       "      <td>0.003203</td>\n",
       "    </tr>\n",
       "    <tr>\n",
       "      <th>2</th>\n",
       "      <td>0.006251</td>\n",
       "      <td>0.007655</td>\n",
       "      <td>0.003125</td>\n",
       "      <td>0.006251</td>\n",
       "      <td>0.01</td>\n",
       "      <td>{'alpha': 0.01}</td>\n",
       "      <td>-0.130676</td>\n",
       "      <td>-0.067532</td>\n",
       "      <td>-0.077235</td>\n",
       "      <td>-0.085489</td>\n",
       "      <td>...</td>\n",
       "      <td>-0.087199</td>\n",
       "      <td>0.022479</td>\n",
       "      <td>3</td>\n",
       "      <td>-0.077155</td>\n",
       "      <td>-0.084240</td>\n",
       "      <td>-0.078556</td>\n",
       "      <td>-0.082372</td>\n",
       "      <td>-0.084308</td>\n",
       "      <td>-0.081326</td>\n",
       "      <td>0.002951</td>\n",
       "    </tr>\n",
       "    <tr>\n",
       "      <th>3</th>\n",
       "      <td>0.011153</td>\n",
       "      <td>0.008083</td>\n",
       "      <td>0.003000</td>\n",
       "      <td>0.002683</td>\n",
       "      <td>0.05</td>\n",
       "      <td>{'alpha': 0.05}</td>\n",
       "      <td>-0.233757</td>\n",
       "      <td>-0.139550</td>\n",
       "      <td>-0.121535</td>\n",
       "      <td>-0.175351</td>\n",
       "      <td>...</td>\n",
       "      <td>-0.165280</td>\n",
       "      <td>0.038596</td>\n",
       "      <td>4</td>\n",
       "      <td>-0.149312</td>\n",
       "      <td>-0.167640</td>\n",
       "      <td>-0.169887</td>\n",
       "      <td>-0.161156</td>\n",
       "      <td>-0.161276</td>\n",
       "      <td>-0.161854</td>\n",
       "      <td>0.007157</td>\n",
       "    </tr>\n",
       "    <tr>\n",
       "      <th>4</th>\n",
       "      <td>0.004725</td>\n",
       "      <td>0.005737</td>\n",
       "      <td>0.001600</td>\n",
       "      <td>0.002059</td>\n",
       "      <td>0.1</td>\n",
       "      <td>{'alpha': 0.1}</td>\n",
       "      <td>-0.233757</td>\n",
       "      <td>-0.141111</td>\n",
       "      <td>-0.126631</td>\n",
       "      <td>-0.177196</td>\n",
       "      <td>...</td>\n",
       "      <td>-0.167972</td>\n",
       "      <td>0.037120</td>\n",
       "      <td>5</td>\n",
       "      <td>-0.149312</td>\n",
       "      <td>-0.171795</td>\n",
       "      <td>-0.175198</td>\n",
       "      <td>-0.162639</td>\n",
       "      <td>-0.167072</td>\n",
       "      <td>-0.165203</td>\n",
       "      <td>0.009010</td>\n",
       "    </tr>\n",
       "  </tbody>\n",
       "</table>\n",
       "<p>5 rows × 21 columns</p>\n",
       "</div>"
      ],
      "text/plain": [
       "   mean_fit_time  std_fit_time  mean_score_time  std_score_time param_alpha  \\\n",
       "0       0.004125      0.006066         0.007277        0.007109      0.0001   \n",
       "1       0.006106      0.005892         0.001620        0.001984       0.001   \n",
       "2       0.006251      0.007655         0.003125        0.006251        0.01   \n",
       "3       0.011153      0.008083         0.003000        0.002683        0.05   \n",
       "4       0.004725      0.005737         0.001600        0.002059         0.1   \n",
       "\n",
       "              params  split0_test_score  split1_test_score  split2_test_score  \\\n",
       "0  {'alpha': 0.0001}          -0.092157          -0.072387          -0.075086   \n",
       "1   {'alpha': 0.001}          -0.094912          -0.069379          -0.074558   \n",
       "2    {'alpha': 0.01}          -0.130676          -0.067532          -0.077235   \n",
       "3    {'alpha': 0.05}          -0.233757          -0.139550          -0.121535   \n",
       "4     {'alpha': 0.1}          -0.233757          -0.141111          -0.126631   \n",
       "\n",
       "   split3_test_score  ...  mean_test_score  std_test_score  rank_test_score  \\\n",
       "0          -0.062701  ...        -0.072802        0.011007                2   \n",
       "1          -0.061633  ...        -0.072382        0.012303                1   \n",
       "2          -0.085489  ...        -0.087199        0.022479                3   \n",
       "3          -0.175351  ...        -0.165280        0.038596                4   \n",
       "4          -0.177196  ...        -0.167972        0.037120                5   \n",
       "\n",
       "   split0_train_score  split1_train_score  split2_train_score  \\\n",
       "0           -0.061005           -0.068378           -0.066512   \n",
       "1           -0.061230           -0.068353           -0.066334   \n",
       "2           -0.077155           -0.084240           -0.078556   \n",
       "3           -0.149312           -0.167640           -0.169887   \n",
       "4           -0.149312           -0.171795           -0.175198   \n",
       "\n",
       "   split3_train_score  split4_train_score  mean_train_score  std_train_score  \n",
       "0           -0.069583           -0.069793         -0.067054         0.003242  \n",
       "1           -0.069349           -0.070202         -0.067094         0.003203  \n",
       "2           -0.082372           -0.084308         -0.081326         0.002951  \n",
       "3           -0.161156           -0.161276         -0.161854         0.007157  \n",
       "4           -0.162639           -0.167072         -0.165203         0.009010  \n",
       "\n",
       "[5 rows x 21 columns]"
      ]
     },
     "execution_count": 53,
     "metadata": {},
     "output_type": "execute_result"
    }
   ],
   "source": [
    "cv_results = pd.DataFrame(model_cv.cv_results_)\n",
    "cv_results.head()"
   ]
  },
  {
   "cell_type": "code",
   "execution_count": 54,
   "id": "b709903c",
   "metadata": {},
   "outputs": [
    {
     "data": {
      "image/png": "[encoded data removed]",
      "text/plain": [
       "<Figure size 432x288 with 1 Axes>"
      ]
     },
     "metadata": {
      "needs_background": "light"
     },
     "output_type": "display_data"
    }
   ],
   "source": [
    "# plotting mean test and train scoes with alpha \n",
    "cv_results['param_alpha'] = cv_results['param_alpha'].astype('float32')\n",
    "\n",
    "# plotting\n",
    "plt.plot(cv_results['param_alpha'], cv_results['mean_train_score'])\n",
    "plt.plot(cv_results['param_alpha'], cv_results['mean_test_score'])\n",
    "plt.xlabel('alpha')\n",
    "plt.ylabel('Negative Mean Absolute Error')\n",
    "\n",
    "plt.title(\"Negative Mean Absolute Error and alpha\")\n",
    "plt.legend(['train score', 'test score'], loc='upper left')\n",
    "plt.show()"
   ]
  },
  {
   "cell_type": "code",
   "execution_count": 55,
   "id": "15d8c7bc",
   "metadata": {},
   "outputs": [
    {
     "data": {
      "text/plain": [
       "array([[0.10754325, 0.20096854, 0.06723524, 0.06535809, 0.0690688 ,\n",
       "        0.3543325 , 0.0545913 ]])"
      ]
     },
     "execution_count": 55,
     "metadata": {},
     "output_type": "execute_result"
    }
   ],
   "source": [
    "alpha = 0.1\n",
    "lasso = Lasso(alpha=alpha)\n",
    "\n",
    "ridge.fit(x_train, y_train)\n",
    "ridge.coef_"
   ]
  },
  {
   "cell_type": "markdown",
   "id": "c2133d89",
   "metadata": {},
   "source": [
    "### OLS Regression"
   ]
  },
  {
   "cell_type": "code",
   "execution_count": 56,
   "id": "950626bd",
   "metadata": {},
   "outputs": [],
   "source": [
    "xtrain_ols1 = sm.add_constant(x_train) ## adding constant to perform OLS regression\n",
    "ols_regression1 = sm.OLS(y_train,xtrain_ols1).fit() ## fitting model"
   ]
  },
  {
   "cell_type": "code",
   "execution_count": 57,
   "id": "aba52ad2",
   "metadata": {
    "scrolled": false
   },
   "outputs": [
    {
     "name": "stdout",
     "output_type": "stream",
     "text": [
      "                            OLS Regression Results                            \n",
      "==============================================================================\n",
      "Dep. Variable:        Chance of Admit   R-squared:                       0.795\n",
      "Model:                            OLS   Adj. R-squared:                  0.785\n",
      "Method:                 Least Squares   F-statistic:                     78.89\n",
      "Date:                Tue, 08 Nov 2022   Prob (F-statistic):           9.01e-46\n",
      "Time:                        17:10:19   Log-Likelihood:                 142.34\n",
      "No. Observations:                 150   AIC:                            -268.7\n",
      "Df Residuals:                     142   BIC:                            -244.6\n",
      "Df Model:                           7                                         \n",
      "Covariance Type:            nonrobust                                         \n",
      "=====================================================================================\n",
      "                        coef    std err          t      P>|t|      [0.025      0.975]\n",
      "-------------------------------------------------------------------------------------\n",
      "const                 0.0605      0.029      2.089      0.038       0.003       0.118\n",
      "GRE Score            -0.0051      0.077     -0.066      0.947      -0.158       0.147\n",
      "TOEFL Score           0.2167      0.073      2.980      0.003       0.073       0.360\n",
      "University Rating     0.0585      0.048      1.225      0.223      -0.036       0.153\n",
      "SOP                   0.0326      0.055      0.598      0.551      -0.075       0.141\n",
      "LOR                   0.0380      0.048      0.785      0.434      -0.058       0.134\n",
      "CGPA                  0.5913      0.092      6.411      0.000       0.409       0.774\n",
      "Research              0.0508      0.019      2.700      0.008       0.014       0.088\n",
      "==============================================================================\n",
      "Omnibus:                       33.098   Durbin-Watson:                   2.107\n",
      "Prob(Omnibus):                  0.000   Jarque-Bera (JB):               54.471\n",
      "Skew:                          -1.085   Prob(JB):                     1.49e-12\n",
      "Kurtosis:                       5.001   Cond. No.                         25.1\n",
      "==============================================================================\n",
      "\n",
      "Notes:\n",
      "[1] Standard Errors assume that the covariance matrix of the errors is correctly specified.\n"
     ]
    }
   ],
   "source": [
    "print(ols_regression1.summary()) ## Summary of the OLS Model"
   ]
  },
  {
   "cell_type": "code",
   "execution_count": 58,
   "id": "72b86957",
   "metadata": {},
   "outputs": [
    {
     "data": {
      "text/html": [
       "<div>\n",
       "<style scoped>\n",
       "    .dataframe tbody tr th:only-of-type {\n",
       "        vertical-align: middle;\n",
       "    }\n",
       "\n",
       "    .dataframe tbody tr th {\n",
       "        vertical-align: top;\n",
       "    }\n",
       "\n",
       "    .dataframe thead th {\n",
       "        text-align: right;\n",
       "    }\n",
       "</style>\n",
       "<table border=\"1\" class=\"dataframe\">\n",
       "  <thead>\n",
       "    <tr style=\"text-align: right;\">\n",
       "      <th></th>\n",
       "      <th>feature</th>\n",
       "      <th>VIF</th>\n",
       "    </tr>\n",
       "  </thead>\n",
       "  <tbody>\n",
       "    <tr>\n",
       "      <th>5</th>\n",
       "      <td>CGPA</td>\n",
       "      <td>44.80</td>\n",
       "    </tr>\n",
       "    <tr>\n",
       "      <th>0</th>\n",
       "      <td>GRE Score</td>\n",
       "      <td>32.49</td>\n",
       "    </tr>\n",
       "    <tr>\n",
       "      <th>1</th>\n",
       "      <td>TOEFL Score</td>\n",
       "      <td>29.84</td>\n",
       "    </tr>\n",
       "    <tr>\n",
       "      <th>3</th>\n",
       "      <td>SOP</td>\n",
       "      <td>20.12</td>\n",
       "    </tr>\n",
       "    <tr>\n",
       "      <th>4</th>\n",
       "      <td>LOR</td>\n",
       "      <td>16.23</td>\n",
       "    </tr>\n",
       "    <tr>\n",
       "      <th>2</th>\n",
       "      <td>University Rating</td>\n",
       "      <td>12.23</td>\n",
       "    </tr>\n",
       "    <tr>\n",
       "      <th>6</th>\n",
       "      <td>Research</td>\n",
       "      <td>3.14</td>\n",
       "    </tr>\n",
       "  </tbody>\n",
       "</table>\n",
       "</div>"
      ],
      "text/plain": [
       "             feature    VIF\n",
       "5               CGPA  44.80\n",
       "0          GRE Score  32.49\n",
       "1        TOEFL Score  29.84\n",
       "3                SOP  20.12\n",
       "4                LOR  16.23\n",
       "2  University Rating  12.23\n",
       "6           Research   3.14"
      ]
     },
     "execution_count": 58,
     "metadata": {},
     "output_type": "execute_result"
    }
   ],
   "source": [
    "## VIF of the features present in the model\n",
    "\n",
    "xtrain_vif1 = x_train\n",
    "vif_data = pd.DataFrame()\n",
    "vif_data[\"feature\"] = xtrain_vif1.columns\n",
    "vif_data[\"VIF\"] = [variance_inflation_factor(xtrain_vif1.values, i) for i in range(xtrain_vif1.shape[1])]\n",
    "vif_data['VIF'] = round(vif_data['VIF'],2)\n",
    "vif_data = vif_data.sort_values(by = 'VIF',ascending=False)\n",
    "vif_data"
   ]
  },
  {
   "cell_type": "raw",
   "id": "94afe7a3",
   "metadata": {},
   "source": [
    "P-Value and VIF is higher for GRE Score, hence dropping the column and rebuilding the model"
   ]
  },
  {
   "cell_type": "code",
   "execution_count": 59,
   "id": "ebd24d56",
   "metadata": {},
   "outputs": [],
   "source": [
    "## Removing the columns in the dataset\n",
    "\n",
    "xtrain_ols2 = xtrain_ols1.drop('GRE Score',1)\n",
    "xtrain_vif2 = xtrain_vif1.drop('GRE Score',1)\n",
    "\n",
    "xtrain_ols2 = sm.add_constant(xtrain_ols2)\n",
    "ols_regression2 = sm.OLS(y_train,xtrain_ols2).fit()"
   ]
  },
  {
   "cell_type": "code",
   "execution_count": 60,
   "id": "8664d99c",
   "metadata": {},
   "outputs": [
    {
     "name": "stdout",
     "output_type": "stream",
     "text": [
      "                            OLS Regression Results                            \n",
      "==============================================================================\n",
      "Dep. Variable:        Chance of Admit   R-squared:                       0.795\n",
      "Model:                            OLS   Adj. R-squared:                  0.787\n",
      "Method:                 Least Squares   F-statistic:                     92.68\n",
      "Date:                Tue, 08 Nov 2022   Prob (F-statistic):           8.97e-47\n",
      "Time:                        17:10:19   Log-Likelihood:                 142.33\n",
      "No. Observations:                 150   AIC:                            -270.7\n",
      "Df Residuals:                     143   BIC:                            -249.6\n",
      "Df Model:                           6                                         \n",
      "Covariance Type:            nonrobust                                         \n",
      "=====================================================================================\n",
      "                        coef    std err          t      P>|t|      [0.025      0.975]\n",
      "-------------------------------------------------------------------------------------\n",
      "const                 0.0606      0.029      2.101      0.037       0.004       0.118\n",
      "TOEFL Score           0.2142      0.062      3.440      0.001       0.091       0.337\n",
      "University Rating     0.0579      0.047      1.240      0.217      -0.034       0.150\n",
      "SOP                   0.0332      0.054      0.617      0.538      -0.073       0.139\n",
      "LOR                   0.0385      0.048      0.811      0.419      -0.055       0.132\n",
      "CGPA                  0.5885      0.082      7.152      0.000       0.426       0.751\n",
      "Research              0.0505      0.018      2.807      0.006       0.015       0.086\n",
      "==============================================================================\n",
      "Omnibus:                       33.364   Durbin-Watson:                   2.106\n",
      "Prob(Omnibus):                  0.000   Jarque-Bera (JB):               55.159\n",
      "Skew:                          -1.091   Prob(JB):                     1.05e-12\n",
      "Kurtosis:                       5.016   Cond. No.                         21.6\n",
      "==============================================================================\n",
      "\n",
      "Notes:\n",
      "[1] Standard Errors assume that the covariance matrix of the errors is correctly specified.\n"
     ]
    }
   ],
   "source": [
    "print(ols_regression2.summary())"
   ]
  },
  {
   "cell_type": "code",
   "execution_count": 61,
   "id": "ca986bbd",
   "metadata": {},
   "outputs": [
    {
     "data": {
      "text/html": [
       "<div>\n",
       "<style scoped>\n",
       "    .dataframe tbody tr th:only-of-type {\n",
       "        vertical-align: middle;\n",
       "    }\n",
       "\n",
       "    .dataframe tbody tr th {\n",
       "        vertical-align: top;\n",
       "    }\n",
       "\n",
       "    .dataframe thead th {\n",
       "        text-align: right;\n",
       "    }\n",
       "</style>\n",
       "<table border=\"1\" class=\"dataframe\">\n",
       "  <thead>\n",
       "    <tr style=\"text-align: right;\">\n",
       "      <th></th>\n",
       "      <th>feature</th>\n",
       "      <th>VIF</th>\n",
       "    </tr>\n",
       "  </thead>\n",
       "  <tbody>\n",
       "    <tr>\n",
       "      <th>4</th>\n",
       "      <td>CGPA</td>\n",
       "      <td>34.99</td>\n",
       "    </tr>\n",
       "    <tr>\n",
       "      <th>0</th>\n",
       "      <td>TOEFL Score</td>\n",
       "      <td>22.07</td>\n",
       "    </tr>\n",
       "    <tr>\n",
       "      <th>2</th>\n",
       "      <td>SOP</td>\n",
       "      <td>19.63</td>\n",
       "    </tr>\n",
       "    <tr>\n",
       "      <th>3</th>\n",
       "      <td>LOR</td>\n",
       "      <td>15.66</td>\n",
       "    </tr>\n",
       "    <tr>\n",
       "      <th>1</th>\n",
       "      <td>University Rating</td>\n",
       "      <td>11.68</td>\n",
       "    </tr>\n",
       "    <tr>\n",
       "      <th>5</th>\n",
       "      <td>Research</td>\n",
       "      <td>2.87</td>\n",
       "    </tr>\n",
       "  </tbody>\n",
       "</table>\n",
       "</div>"
      ],
      "text/plain": [
       "             feature    VIF\n",
       "4               CGPA  34.99\n",
       "0        TOEFL Score  22.07\n",
       "2                SOP  19.63\n",
       "3                LOR  15.66\n",
       "1  University Rating  11.68\n",
       "5           Research   2.87"
      ]
     },
     "execution_count": 61,
     "metadata": {},
     "output_type": "execute_result"
    }
   ],
   "source": [
    "vif_data2 = pd.DataFrame()\n",
    "vif_data2[\"feature\"] = xtrain_vif2.columns\n",
    "vif_data2[\"VIF\"] = [variance_inflation_factor(xtrain_vif2.values, i) for i in range(xtrain_vif2.shape[1])]\n",
    "vif_data2['VIF'] = round(vif_data2['VIF'],2)\n",
    "vif_data2 = vif_data2.sort_values(by = 'VIF',ascending=False)\n",
    "vif_data2"
   ]
  },
  {
   "cell_type": "raw",
   "id": "e75992ae",
   "metadata": {},
   "source": [
    "P-Value and VIF is higher for SOP Score, hence dropping the column and rebuilding the model"
   ]
  },
  {
   "cell_type": "code",
   "execution_count": 62,
   "id": "ed75a635",
   "metadata": {},
   "outputs": [],
   "source": [
    "xtrain_ols3 = xtrain_ols2.drop('SOP',1)\n",
    "xtrain_vif3 = xtrain_vif2.drop('SOP',1)\n",
    "\n",
    "xtrain_ols3 = sm.add_constant(xtrain_ols3)\n",
    "ols_regression3 = sm.OLS(y_train,xtrain_ols3).fit()"
   ]
  },
  {
   "cell_type": "code",
   "execution_count": 63,
   "id": "0fe6c482",
   "metadata": {},
   "outputs": [
    {
     "name": "stdout",
     "output_type": "stream",
     "text": [
      "                            OLS Regression Results                            \n",
      "==============================================================================\n",
      "Dep. Variable:        Chance of Admit   R-squared:                       0.795\n",
      "Model:                            OLS   Adj. R-squared:                  0.788\n",
      "Method:                 Least Squares   F-statistic:                     111.6\n",
      "Date:                Tue, 08 Nov 2022   Prob (F-statistic):           9.72e-48\n",
      "Time:                        17:10:20   Log-Likelihood:                 142.13\n",
      "No. Observations:                 150   AIC:                            -272.3\n",
      "Df Residuals:                     144   BIC:                            -254.2\n",
      "Df Model:                           5                                         \n",
      "Covariance Type:            nonrobust                                         \n",
      "=====================================================================================\n",
      "                        coef    std err          t      P>|t|      [0.025      0.975]\n",
      "-------------------------------------------------------------------------------------\n",
      "const                 0.0633      0.028      2.227      0.028       0.007       0.120\n",
      "TOEFL Score           0.2158      0.062      3.476      0.001       0.093       0.339\n",
      "University Rating     0.0715      0.041      1.737      0.084      -0.010       0.153\n",
      "LOR                   0.0461      0.046      1.008      0.315      -0.044       0.137\n",
      "CGPA                  0.5959      0.081      7.334      0.000       0.435       0.756\n",
      "Research              0.0507      0.018      2.831      0.005       0.015       0.086\n",
      "==============================================================================\n",
      "Omnibus:                       33.060   Durbin-Watson:                   2.102\n",
      "Prob(Omnibus):                  0.000   Jarque-Bera (JB):               54.995\n",
      "Skew:                          -1.077   Prob(JB):                     1.14e-12\n",
      "Kurtosis:                       5.039   Cond. No.                         20.1\n",
      "==============================================================================\n",
      "\n",
      "Notes:\n",
      "[1] Standard Errors assume that the covariance matrix of the errors is correctly specified.\n"
     ]
    }
   ],
   "source": [
    "print(ols_regression3.summary())"
   ]
  },
  {
   "cell_type": "code",
   "execution_count": 64,
   "id": "fd7b0273",
   "metadata": {},
   "outputs": [
    {
     "data": {
      "text/html": [
       "<div>\n",
       "<style scoped>\n",
       "    .dataframe tbody tr th:only-of-type {\n",
       "        vertical-align: middle;\n",
       "    }\n",
       "\n",
       "    .dataframe tbody tr th {\n",
       "        vertical-align: top;\n",
       "    }\n",
       "\n",
       "    .dataframe thead th {\n",
       "        text-align: right;\n",
       "    }\n",
       "</style>\n",
       "<table border=\"1\" class=\"dataframe\">\n",
       "  <thead>\n",
       "    <tr style=\"text-align: right;\">\n",
       "      <th></th>\n",
       "      <th>feature</th>\n",
       "      <th>VIF</th>\n",
       "    </tr>\n",
       "  </thead>\n",
       "  <tbody>\n",
       "    <tr>\n",
       "      <th>3</th>\n",
       "      <td>CGPA</td>\n",
       "      <td>33.10</td>\n",
       "    </tr>\n",
       "    <tr>\n",
       "      <th>0</th>\n",
       "      <td>TOEFL Score</td>\n",
       "      <td>22.02</td>\n",
       "    </tr>\n",
       "    <tr>\n",
       "      <th>2</th>\n",
       "      <td>LOR</td>\n",
       "      <td>14.05</td>\n",
       "    </tr>\n",
       "    <tr>\n",
       "      <th>1</th>\n",
       "      <td>University Rating</td>\n",
       "      <td>9.32</td>\n",
       "    </tr>\n",
       "    <tr>\n",
       "      <th>4</th>\n",
       "      <td>Research</td>\n",
       "      <td>2.87</td>\n",
       "    </tr>\n",
       "  </tbody>\n",
       "</table>\n",
       "</div>"
      ],
      "text/plain": [
       "             feature    VIF\n",
       "3               CGPA  33.10\n",
       "0        TOEFL Score  22.02\n",
       "2                LOR  14.05\n",
       "1  University Rating   9.32\n",
       "4           Research   2.87"
      ]
     },
     "execution_count": 64,
     "metadata": {},
     "output_type": "execute_result"
    }
   ],
   "source": [
    "vif_data3 = pd.DataFrame()\n",
    "vif_data3[\"feature\"] = xtrain_vif3.columns\n",
    "vif_data3[\"VIF\"] = [variance_inflation_factor(xtrain_vif3.values, i) for i in range(xtrain_vif3.shape[1])]\n",
    "vif_data3['VIF'] = round(vif_data3['VIF'],2)\n",
    "vif_data3 = vif_data3.sort_values(by = 'VIF',ascending=False)\n",
    "vif_data3"
   ]
  },
  {
   "cell_type": "raw",
   "id": "1d62da3c",
   "metadata": {},
   "source": [
    "P-Value and VIF is higher for LOR Score, hence dropping the column and rebuilding the model"
   ]
  },
  {
   "cell_type": "code",
   "execution_count": 65,
   "id": "9857a8f1",
   "metadata": {},
   "outputs": [],
   "source": [
    "xtrain_ols4 = xtrain_ols3.drop('LOR',1)\n",
    "xtrain_vif4 = xtrain_vif3.drop('LOR',1)\n",
    "\n",
    "xtrain_ols4 = sm.add_constant(xtrain_ols4)\n",
    "ols_regression4 = sm.OLS(y_train,xtrain_ols4).fit()"
   ]
  },
  {
   "cell_type": "code",
   "execution_count": 66,
   "id": "6b5b791b",
   "metadata": {},
   "outputs": [
    {
     "name": "stdout",
     "output_type": "stream",
     "text": [
      "                            OLS Regression Results                            \n",
      "==============================================================================\n",
      "Dep. Variable:        Chance of Admit   R-squared:                       0.793\n",
      "Model:                            OLS   Adj. R-squared:                  0.788\n",
      "Method:                 Least Squares   F-statistic:                     139.3\n",
      "Date:                Tue, 08 Nov 2022   Prob (F-statistic):           1.28e-48\n",
      "Time:                        17:10:20   Log-Likelihood:                 141.61\n",
      "No. Observations:                 150   AIC:                            -273.2\n",
      "Df Residuals:                     145   BIC:                            -258.2\n",
      "Df Model:                           4                                         \n",
      "Covariance Type:            nonrobust                                         \n",
      "=====================================================================================\n",
      "                        coef    std err          t      P>|t|      [0.025      0.975]\n",
      "-------------------------------------------------------------------------------------\n",
      "const                 0.0730      0.027      2.726      0.007       0.020       0.126\n",
      "TOEFL Score           0.2138      0.062      3.446      0.001       0.091       0.337\n",
      "University Rating     0.0882      0.038      2.343      0.020       0.014       0.163\n",
      "CGPA                  0.6164      0.079      7.837      0.000       0.461       0.772\n",
      "Research              0.0506      0.018      2.820      0.005       0.015       0.086\n",
      "==============================================================================\n",
      "Omnibus:                       32.983   Durbin-Watson:                   2.098\n",
      "Prob(Omnibus):                  0.000   Jarque-Bera (JB):               54.120\n",
      "Skew:                          -1.083   Prob(JB):                     1.77e-12\n",
      "Kurtosis:                       4.991   Cond. No.                         18.2\n",
      "==============================================================================\n",
      "\n",
      "Notes:\n",
      "[1] Standard Errors assume that the covariance matrix of the errors is correctly specified.\n"
     ]
    }
   ],
   "source": [
    "print(ols_regression4.summary())"
   ]
  },
  {
   "cell_type": "code",
   "execution_count": 67,
   "id": "7d7429ce",
   "metadata": {},
   "outputs": [
    {
     "data": {
      "text/html": [
       "<div>\n",
       "<style scoped>\n",
       "    .dataframe tbody tr th:only-of-type {\n",
       "        vertical-align: middle;\n",
       "    }\n",
       "\n",
       "    .dataframe tbody tr th {\n",
       "        vertical-align: top;\n",
       "    }\n",
       "\n",
       "    .dataframe thead th {\n",
       "        text-align: right;\n",
       "    }\n",
       "</style>\n",
       "<table border=\"1\" class=\"dataframe\">\n",
       "  <thead>\n",
       "    <tr style=\"text-align: right;\">\n",
       "      <th></th>\n",
       "      <th>feature</th>\n",
       "      <th>VIF</th>\n",
       "    </tr>\n",
       "  </thead>\n",
       "  <tbody>\n",
       "    <tr>\n",
       "      <th>2</th>\n",
       "      <td>CGPA</td>\n",
       "      <td>25.51</td>\n",
       "    </tr>\n",
       "    <tr>\n",
       "      <th>0</th>\n",
       "      <td>TOEFL Score</td>\n",
       "      <td>22.01</td>\n",
       "    </tr>\n",
       "    <tr>\n",
       "      <th>1</th>\n",
       "      <td>University Rating</td>\n",
       "      <td>8.16</td>\n",
       "    </tr>\n",
       "    <tr>\n",
       "      <th>3</th>\n",
       "      <td>Research</td>\n",
       "      <td>2.86</td>\n",
       "    </tr>\n",
       "  </tbody>\n",
       "</table>\n",
       "</div>"
      ],
      "text/plain": [
       "             feature    VIF\n",
       "2               CGPA  25.51\n",
       "0        TOEFL Score  22.01\n",
       "1  University Rating   8.16\n",
       "3           Research   2.86"
      ]
     },
     "execution_count": 67,
     "metadata": {},
     "output_type": "execute_result"
    }
   ],
   "source": [
    "vif_data4 = pd.DataFrame()\n",
    "vif_data4[\"feature\"] = xtrain_vif4.columns\n",
    "vif_data4[\"VIF\"] = [variance_inflation_factor(xtrain_vif4.values, i) for i in range(xtrain_vif4.shape[1])]\n",
    "vif_data4['VIF'] = round(vif_data4['VIF'],2)\n",
    "vif_data4 = vif_data4.sort_values(by = 'VIF',ascending=False)\n",
    "vif_data4"
   ]
  },
  {
   "cell_type": "raw",
   "id": "9b811f49",
   "metadata": {},
   "source": [
    "-->xtrain_ols4 has the data with features from which we can exactly predict our model, going further we will be using this data.\n",
    "-->Eventhough the VIF of the features is high but from OLS we can see that p-value of the features less than 0.05 so from which we are rejecting the null hypothesis"
   ]
  },
  {
   "cell_type": "code",
   "execution_count": 68,
   "id": "d91ce8a9",
   "metadata": {},
   "outputs": [],
   "source": [
    "ytrain_predict = ols_regression4.predict(xtrain_ols4)"
   ]
  },
  {
   "cell_type": "code",
   "execution_count": 69,
   "id": "4f3bbe2b",
   "metadata": {},
   "outputs": [
    {
     "data": {
      "text/html": [
       "<div>\n",
       "<style scoped>\n",
       "    .dataframe tbody tr th:only-of-type {\n",
       "        vertical-align: middle;\n",
       "    }\n",
       "\n",
       "    .dataframe tbody tr th {\n",
       "        vertical-align: top;\n",
       "    }\n",
       "\n",
       "    .dataframe thead th {\n",
       "        text-align: right;\n",
       "    }\n",
       "</style>\n",
       "<table border=\"1\" class=\"dataframe\">\n",
       "  <thead>\n",
       "    <tr style=\"text-align: right;\">\n",
       "      <th></th>\n",
       "      <th>GRE Score</th>\n",
       "      <th>TOEFL Score</th>\n",
       "      <th>University Rating</th>\n",
       "      <th>SOP</th>\n",
       "      <th>LOR</th>\n",
       "      <th>CGPA</th>\n",
       "      <th>Research</th>\n",
       "    </tr>\n",
       "  </thead>\n",
       "  <tbody>\n",
       "    <tr>\n",
       "      <th>304</th>\n",
       "      <td>0.46</td>\n",
       "      <td>0.500000</td>\n",
       "      <td>0.25</td>\n",
       "      <td>0.375</td>\n",
       "      <td>0.250</td>\n",
       "      <td>0.522436</td>\n",
       "      <td>0.0</td>\n",
       "    </tr>\n",
       "    <tr>\n",
       "      <th>340</th>\n",
       "      <td>0.44</td>\n",
       "      <td>0.535714</td>\n",
       "      <td>0.50</td>\n",
       "      <td>0.500</td>\n",
       "      <td>0.500</td>\n",
       "      <td>0.532051</td>\n",
       "      <td>1.0</td>\n",
       "    </tr>\n",
       "    <tr>\n",
       "      <th>47</th>\n",
       "      <td>0.98</td>\n",
       "      <td>0.964286</td>\n",
       "      <td>1.00</td>\n",
       "      <td>0.875</td>\n",
       "      <td>0.750</td>\n",
       "      <td>0.929487</td>\n",
       "      <td>0.0</td>\n",
       "    </tr>\n",
       "    <tr>\n",
       "      <th>67</th>\n",
       "      <td>0.52</td>\n",
       "      <td>0.535714</td>\n",
       "      <td>0.25</td>\n",
       "      <td>0.625</td>\n",
       "      <td>0.625</td>\n",
       "      <td>0.589744</td>\n",
       "      <td>1.0</td>\n",
       "    </tr>\n",
       "    <tr>\n",
       "      <th>479</th>\n",
       "      <td>0.70</td>\n",
       "      <td>0.642857</td>\n",
       "      <td>0.75</td>\n",
       "      <td>0.875</td>\n",
       "      <td>0.750</td>\n",
       "      <td>0.692308</td>\n",
       "      <td>1.0</td>\n",
       "    </tr>\n",
       "  </tbody>\n",
       "</table>\n",
       "</div>"
      ],
      "text/plain": [
       "     GRE Score  TOEFL Score  University Rating    SOP    LOR      CGPA  \\\n",
       "304       0.46     0.500000               0.25  0.375  0.250  0.522436   \n",
       "340       0.44     0.535714               0.50  0.500  0.500  0.532051   \n",
       "47        0.98     0.964286               1.00  0.875  0.750  0.929487   \n",
       "67        0.52     0.535714               0.25  0.625  0.625  0.589744   \n",
       "479       0.70     0.642857               0.75  0.875  0.750  0.692308   \n",
       "\n",
       "     Research  \n",
       "304       0.0  \n",
       "340       1.0  \n",
       "47        0.0  \n",
       "67        1.0  \n",
       "479       1.0  "
      ]
     },
     "execution_count": 69,
     "metadata": {},
     "output_type": "execute_result"
    }
   ],
   "source": [
    "x_test.head()"
   ]
  },
  {
   "cell_type": "code",
   "execution_count": 70,
   "id": "40cd2d35",
   "metadata": {},
   "outputs": [
    {
     "data": {
      "text/plain": [
       "Index(['const', 'TOEFL Score', 'University Rating', 'CGPA', 'Research'], dtype='object')"
      ]
     },
     "execution_count": 70,
     "metadata": {},
     "output_type": "execute_result"
    }
   ],
   "source": [
    "xtrain_ols4.columns"
   ]
  },
  {
   "cell_type": "code",
   "execution_count": 71,
   "id": "1f62ec53",
   "metadata": {},
   "outputs": [],
   "source": [
    "x_test = x_test[['TOEFL Score', 'University Rating', 'CGPA', 'Research']]"
   ]
  },
  {
   "cell_type": "code",
   "execution_count": 72,
   "id": "a74cf23c",
   "metadata": {
    "scrolled": true
   },
   "outputs": [
    {
     "data": {
      "text/html": [
       "<div>\n",
       "<style scoped>\n",
       "    .dataframe tbody tr th:only-of-type {\n",
       "        vertical-align: middle;\n",
       "    }\n",
       "\n",
       "    .dataframe tbody tr th {\n",
       "        vertical-align: top;\n",
       "    }\n",
       "\n",
       "    .dataframe thead th {\n",
       "        text-align: right;\n",
       "    }\n",
       "</style>\n",
       "<table border=\"1\" class=\"dataframe\">\n",
       "  <thead>\n",
       "    <tr style=\"text-align: right;\">\n",
       "      <th></th>\n",
       "      <th>TOEFL Score</th>\n",
       "      <th>University Rating</th>\n",
       "      <th>CGPA</th>\n",
       "      <th>Research</th>\n",
       "    </tr>\n",
       "  </thead>\n",
       "  <tbody>\n",
       "    <tr>\n",
       "      <th>304</th>\n",
       "      <td>0.500000</td>\n",
       "      <td>0.25</td>\n",
       "      <td>0.522436</td>\n",
       "      <td>0.0</td>\n",
       "    </tr>\n",
       "    <tr>\n",
       "      <th>340</th>\n",
       "      <td>0.535714</td>\n",
       "      <td>0.50</td>\n",
       "      <td>0.532051</td>\n",
       "      <td>1.0</td>\n",
       "    </tr>\n",
       "    <tr>\n",
       "      <th>47</th>\n",
       "      <td>0.964286</td>\n",
       "      <td>1.00</td>\n",
       "      <td>0.929487</td>\n",
       "      <td>0.0</td>\n",
       "    </tr>\n",
       "    <tr>\n",
       "      <th>67</th>\n",
       "      <td>0.535714</td>\n",
       "      <td>0.25</td>\n",
       "      <td>0.589744</td>\n",
       "      <td>1.0</td>\n",
       "    </tr>\n",
       "    <tr>\n",
       "      <th>479</th>\n",
       "      <td>0.642857</td>\n",
       "      <td>0.75</td>\n",
       "      <td>0.692308</td>\n",
       "      <td>1.0</td>\n",
       "    </tr>\n",
       "  </tbody>\n",
       "</table>\n",
       "</div>"
      ],
      "text/plain": [
       "     TOEFL Score  University Rating      CGPA  Research\n",
       "304     0.500000               0.25  0.522436       0.0\n",
       "340     0.535714               0.50  0.532051       1.0\n",
       "47      0.964286               1.00  0.929487       0.0\n",
       "67      0.535714               0.25  0.589744       1.0\n",
       "479     0.642857               0.75  0.692308       1.0"
      ]
     },
     "execution_count": 72,
     "metadata": {},
     "output_type": "execute_result"
    }
   ],
   "source": [
    "x_test.head()"
   ]
  },
  {
   "cell_type": "code",
   "execution_count": 73,
   "id": "36eebf63",
   "metadata": {},
   "outputs": [],
   "source": [
    "x_test = sm.add_constant(x_test)"
   ]
  },
  {
   "cell_type": "code",
   "execution_count": 74,
   "id": "dca7cc63",
   "metadata": {},
   "outputs": [
    {
     "data": {
      "text/html": [
       "<div>\n",
       "<style scoped>\n",
       "    .dataframe tbody tr th:only-of-type {\n",
       "        vertical-align: middle;\n",
       "    }\n",
       "\n",
       "    .dataframe tbody tr th {\n",
       "        vertical-align: top;\n",
       "    }\n",
       "\n",
       "    .dataframe thead th {\n",
       "        text-align: right;\n",
       "    }\n",
       "</style>\n",
       "<table border=\"1\" class=\"dataframe\">\n",
       "  <thead>\n",
       "    <tr style=\"text-align: right;\">\n",
       "      <th></th>\n",
       "      <th>const</th>\n",
       "      <th>TOEFL Score</th>\n",
       "      <th>University Rating</th>\n",
       "      <th>CGPA</th>\n",
       "      <th>Research</th>\n",
       "    </tr>\n",
       "  </thead>\n",
       "  <tbody>\n",
       "    <tr>\n",
       "      <th>304</th>\n",
       "      <td>1.0</td>\n",
       "      <td>0.500000</td>\n",
       "      <td>0.25</td>\n",
       "      <td>0.522436</td>\n",
       "      <td>0.0</td>\n",
       "    </tr>\n",
       "    <tr>\n",
       "      <th>340</th>\n",
       "      <td>1.0</td>\n",
       "      <td>0.535714</td>\n",
       "      <td>0.50</td>\n",
       "      <td>0.532051</td>\n",
       "      <td>1.0</td>\n",
       "    </tr>\n",
       "    <tr>\n",
       "      <th>47</th>\n",
       "      <td>1.0</td>\n",
       "      <td>0.964286</td>\n",
       "      <td>1.00</td>\n",
       "      <td>0.929487</td>\n",
       "      <td>0.0</td>\n",
       "    </tr>\n",
       "    <tr>\n",
       "      <th>67</th>\n",
       "      <td>1.0</td>\n",
       "      <td>0.535714</td>\n",
       "      <td>0.25</td>\n",
       "      <td>0.589744</td>\n",
       "      <td>1.0</td>\n",
       "    </tr>\n",
       "    <tr>\n",
       "      <th>479</th>\n",
       "      <td>1.0</td>\n",
       "      <td>0.642857</td>\n",
       "      <td>0.75</td>\n",
       "      <td>0.692308</td>\n",
       "      <td>1.0</td>\n",
       "    </tr>\n",
       "  </tbody>\n",
       "</table>\n",
       "</div>"
      ],
      "text/plain": [
       "     const  TOEFL Score  University Rating      CGPA  Research\n",
       "304    1.0     0.500000               0.25  0.522436       0.0\n",
       "340    1.0     0.535714               0.50  0.532051       1.0\n",
       "47     1.0     0.964286               1.00  0.929487       0.0\n",
       "67     1.0     0.535714               0.25  0.589744       1.0\n",
       "479    1.0     0.642857               0.75  0.692308       1.0"
      ]
     },
     "execution_count": 74,
     "metadata": {},
     "output_type": "execute_result"
    }
   ],
   "source": [
    "x_test.head()"
   ]
  },
  {
   "cell_type": "code",
   "execution_count": 75,
   "id": "9457e47a",
   "metadata": {},
   "outputs": [],
   "source": [
    "ytest_predict = ols_regression4.predict(x_test)"
   ]
  },
  {
   "cell_type": "markdown",
   "id": "34ca8a1d",
   "metadata": {},
   "source": [
    "### Linearity Check"
   ]
  },
  {
   "cell_type": "code",
   "execution_count": 76,
   "id": "314c9e98",
   "metadata": {},
   "outputs": [
    {
     "data": {
      "text/plain": [
       "Index(['Serial No.', 'GRE Score', 'TOEFL Score', 'University Rating', 'SOP',\n",
       "       'LOR', 'CGPA', 'Research', 'Chance of Admit'],\n",
       "      dtype='object')"
      ]
     },
     "execution_count": 76,
     "metadata": {},
     "output_type": "execute_result"
    }
   ],
   "source": [
    "df_copy.columns"
   ]
  },
  {
   "cell_type": "code",
   "execution_count": 77,
   "id": "18ac315c",
   "metadata": {
    "scrolled": true
   },
   "outputs": [
    {
     "data": {
      "text/plain": [
       "<seaborn.axisgrid.PairGrid at 0x2978b1d1f40>"
      ]
     },
     "execution_count": 77,
     "metadata": {},
     "output_type": "execute_result"
    },
    {
     "data": {
      "image/png": "[encoded data removed]",
      "text/plain": [
       "<Figure size 720x180 with 4 Axes>"
      ]
     },
     "metadata": {
      "needs_background": "light"
     },
     "output_type": "display_data"
    }
   ],
   "source": [
    "sns.pairplot(df_copy, x_vars=['TOEFL Score', 'University Rating', 'CGPA', 'Research'],y_vars=['Chance of Admit'])"
   ]
  },
  {
   "cell_type": "markdown",
   "id": "26ff31ce",
   "metadata": {},
   "source": [
    "### Mean of residuals"
   ]
  },
  {
   "cell_type": "code",
   "execution_count": 78,
   "id": "1220e35f",
   "metadata": {},
   "outputs": [],
   "source": [
    "ytest_predict = pd.DataFrame(ytest_predict,columns = ['Chance of Admit'])"
   ]
  },
  {
   "cell_type": "code",
   "execution_count": 79,
   "id": "857c07a7",
   "metadata": {
    "scrolled": true
   },
   "outputs": [
    {
     "data": {
      "text/plain": [
       "Chance of Admit    0.012823\n",
       "dtype: float64"
      ]
     },
     "execution_count": 79,
     "metadata": {},
     "output_type": "execute_result"
    }
   ],
   "source": [
    "np.mean(ytest_predict-y_test)"
   ]
  },
  {
   "cell_type": "markdown",
   "id": "dbe69d90",
   "metadata": {},
   "source": [
    "### Test for Homoscedasticity"
   ]
  },
  {
   "cell_type": "code",
   "execution_count": 80,
   "id": "c0336038",
   "metadata": {
    "scrolled": true
   },
   "outputs": [],
   "source": [
    "ytest_predict = pd.DataFrame(ytest_predict,columns=['Chance of Admit'])"
   ]
  },
  {
   "cell_type": "code",
   "execution_count": 81,
   "id": "c4cb7610",
   "metadata": {},
   "outputs": [
    {
     "data": {
      "text/html": [
       "<div>\n",
       "<style scoped>\n",
       "    .dataframe tbody tr th:only-of-type {\n",
       "        vertical-align: middle;\n",
       "    }\n",
       "\n",
       "    .dataframe tbody tr th {\n",
       "        vertical-align: top;\n",
       "    }\n",
       "\n",
       "    .dataframe thead th {\n",
       "        text-align: right;\n",
       "    }\n",
       "</style>\n",
       "<table border=\"1\" class=\"dataframe\">\n",
       "  <thead>\n",
       "    <tr style=\"text-align: right;\">\n",
       "      <th></th>\n",
       "      <th>Chance of Admit</th>\n",
       "    </tr>\n",
       "  </thead>\n",
       "  <tbody>\n",
       "    <tr>\n",
       "      <th>304</th>\n",
       "      <td>0.524003</td>\n",
       "    </tr>\n",
       "    <tr>\n",
       "      <th>340</th>\n",
       "      <td>0.610173</td>\n",
       "    </tr>\n",
       "    <tr>\n",
       "      <th>47</th>\n",
       "      <td>0.940345</td>\n",
       "    </tr>\n",
       "    <tr>\n",
       "      <th>67</th>\n",
       "      <td>0.623686</td>\n",
       "    </tr>\n",
       "    <tr>\n",
       "      <th>479</th>\n",
       "      <td>0.753918</td>\n",
       "    </tr>\n",
       "  </tbody>\n",
       "</table>\n",
       "</div>"
      ],
      "text/plain": [
       "     Chance of Admit\n",
       "304         0.524003\n",
       "340         0.610173\n",
       "47          0.940345\n",
       "67          0.623686\n",
       "479         0.753918"
      ]
     },
     "execution_count": 81,
     "metadata": {},
     "output_type": "execute_result"
    }
   ],
   "source": [
    "ytest_predict.head()"
   ]
  },
  {
   "cell_type": "code",
   "execution_count": 82,
   "id": "012954b1",
   "metadata": {},
   "outputs": [
    {
     "data": {
      "text/html": [
       "<div>\n",
       "<style scoped>\n",
       "    .dataframe tbody tr th:only-of-type {\n",
       "        vertical-align: middle;\n",
       "    }\n",
       "\n",
       "    .dataframe tbody tr th {\n",
       "        vertical-align: top;\n",
       "    }\n",
       "\n",
       "    .dataframe thead th {\n",
       "        text-align: right;\n",
       "    }\n",
       "</style>\n",
       "<table border=\"1\" class=\"dataframe\">\n",
       "  <thead>\n",
       "    <tr style=\"text-align: right;\">\n",
       "      <th></th>\n",
       "      <th>Chance of Admit</th>\n",
       "    </tr>\n",
       "  </thead>\n",
       "  <tbody>\n",
       "    <tr>\n",
       "      <th>304</th>\n",
       "      <td>0.444444</td>\n",
       "    </tr>\n",
       "    <tr>\n",
       "      <th>340</th>\n",
       "      <td>0.650794</td>\n",
       "    </tr>\n",
       "    <tr>\n",
       "      <th>47</th>\n",
       "      <td>0.873016</td>\n",
       "    </tr>\n",
       "    <tr>\n",
       "      <th>67</th>\n",
       "      <td>0.365079</td>\n",
       "    </tr>\n",
       "    <tr>\n",
       "      <th>479</th>\n",
       "      <td>0.714286</td>\n",
       "    </tr>\n",
       "  </tbody>\n",
       "</table>\n",
       "</div>"
      ],
      "text/plain": [
       "     Chance of Admit\n",
       "304         0.444444\n",
       "340         0.650794\n",
       "47          0.873016\n",
       "67          0.365079\n",
       "479         0.714286"
      ]
     },
     "execution_count": 82,
     "metadata": {},
     "output_type": "execute_result"
    }
   ],
   "source": [
    "y_test.head()"
   ]
  },
  {
   "cell_type": "code",
   "execution_count": 83,
   "id": "5760d277",
   "metadata": {
    "scrolled": false
   },
   "outputs": [
    {
     "data": {
      "text/plain": [
       "<seaborn.axisgrid.FacetGrid at 0x2978a963190>"
      ]
     },
     "execution_count": 83,
     "metadata": {},
     "output_type": "execute_result"
    },
    {
     "data": {
      "image/png": "[encoded data removed]",
      "text/plain": [
       "<Figure size 360x360 with 1 Axes>"
      ]
     },
     "metadata": {
      "needs_background": "light"
     },
     "output_type": "display_data"
    }
   ],
   "source": [
    "data = pd.DataFrame()\n",
    "data['Predicted'] = ytest_predict\n",
    "data['Residuals'] = y_test - ytest_predict\n",
    "sns.lmplot(x='Predicted',y='Residuals',data=data)"
   ]
  },
  {
   "cell_type": "markdown",
   "id": "3882d8ab",
   "metadata": {},
   "source": [
    "### Normality of residuals"
   ]
  },
  {
   "cell_type": "code",
   "execution_count": 84,
   "id": "b824bb83",
   "metadata": {
    "scrolled": true
   },
   "outputs": [
    {
     "data": {
      "text/plain": [
       "<AxesSubplot:ylabel='Density'>"
      ]
     },
     "execution_count": 84,
     "metadata": {},
     "output_type": "execute_result"
    },
    {
     "data": {
      "image/png": "[encoded data removed]",
      "text/plain": [
       "<Figure size 432x288 with 1 Axes>"
      ]
     },
     "metadata": {
      "needs_background": "light"
     },
     "output_type": "display_data"
    }
   ],
   "source": [
    "sns.distplot(y_test-ytest_predict)"
   ]
  },
  {
   "cell_type": "raw",
   "id": "e7bc5f38",
   "metadata": {},
   "source": [
    "form the above plot we can see that the graph is similar to the normal plot, Hence we can say that the assumption is True"
   ]
  },
  {
   "cell_type": "markdown",
   "id": "00339e29",
   "metadata": {},
   "source": [
    "### Model Evaluation"
   ]
  },
  {
   "cell_type": "code",
   "execution_count": 85,
   "id": "377d174b",
   "metadata": {},
   "outputs": [
    {
     "name": "stdout",
     "output_type": "stream",
     "text": [
      "Mean Absolute Error: 0.06971171640623312\n",
      "Mean Squared Error: 0.010046336251067323\n",
      "Root Mean Squared Error: 0.10023141349430988\n"
     ]
    }
   ],
   "source": [
    "print('Mean Absolute Error:', metrics.mean_absolute_error(y_test,ytest_predict))  \n",
    "print('Mean Squared Error:', metrics.mean_squared_error(y_test,ytest_predict))   \n",
    "print('Root Mean Squared Error:', np.sqrt(metrics.mean_squared_error(y_test,ytest_predict)))"
   ]
  },
  {
   "cell_type": "code",
   "execution_count": 86,
   "id": "140ce780",
   "metadata": {},
   "outputs": [
    {
     "data": {
      "text/plain": [
       "0.80978591888805"
      ]
     },
     "execution_count": 86,
     "metadata": {},
     "output_type": "execute_result"
    }
   ],
   "source": [
    "## R2 Score\n",
    "r2 = r2_score(y_test,ytest_predict)\n",
    "r2"
   ]
  },
  {
   "cell_type": "code",
   "execution_count": 87,
   "id": "ec77a64d",
   "metadata": {},
   "outputs": [
    {
     "data": {
      "text/plain": [
       "0.8075805382374766"
      ]
     },
     "execution_count": 87,
     "metadata": {},
     "output_type": "execute_result"
    }
   ],
   "source": [
    "## Adjusted R2 Score\n",
    "m = y_test.shape[0]\n",
    "d = xtrain_vif4.shape[1]\n",
    "adj_r2 = 1-((1-r2)*(m-1)/(m-d-1))\n",
    "adj_r2"
   ]
  },
  {
   "cell_type": "raw",
   "id": "412c59f8",
   "metadata": {},
   "source": [
    "Mean errors are nearly equals to zero\n",
    "R2 score is 80% and adjusted R2 score is also almost same\n",
    "If there are any other information like the state/region the student belongs to and the "
   ]
  },
  {
   "cell_type": "markdown",
   "id": "c77630d6",
   "metadata": {},
   "source": [
    "### Actionable Insights & Recommendations"
   ]
  },
  {
   "cell_type": "raw",
   "id": "fe026ba0",
   "metadata": {},
   "source": [
    "--> Research feature makes more sense in prediction.\n",
    "--> R2 score is 80 which states that this is a good model\n",
    "--> Information like state/region or educational qualifications and work experience in the field of intrest adds more value to the model\n",
    "-->Few features had multicollinearity which makes the model to predict inappropriate outputs so they are not much required to predict the output \n",
    "--> Factors like Research,CGPA,TOFEL Score, University Rating effects the chance of the student getting seat in the applied college from the given dataset"
   ]
  }
 ],
 "metadata": {
  "kernelspec": {
   "display_name": "Python 3 (ipykernel)",
   "language": "python",
   "name": "python3"
  },
  "language_info": {
   "codemirror_mode": {
    "name": "ipython",
    "version": 3
   },
   "file_extension": ".py",
   "mimetype": "text/x-python",
   "name": "python",
   "nbconvert_exporter": "python",
   "pygments_lexer": "ipython3",
   "version": "3.9.12"
  }
 },
 "nbformat": 4,
 "nbformat_minor": 5
}
