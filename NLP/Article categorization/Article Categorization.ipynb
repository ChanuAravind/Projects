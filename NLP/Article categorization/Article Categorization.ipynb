{
 "cells": [
  {
   "cell_type": "markdown",
   "id": "52f64f19",
   "metadata": {},
   "source": [
    "### Problem Statement:\n",
    "\n",
    "**Context**:\n",
    "The Gurugram-based FlipItNews aims to revolutionize the way Indians perceive finance, business, and capital market investment, by giving it a boost through artificial intelligence (AI) and machine learning (ML). They’re on a mission to reinvent financial literacy for Indians, where financial awareness is driven by smart information discovery and engagement with peers. Through their smart content discovery and contextual engagement, the company is simplifying business, finance, and investment for millennials and first-time investors\n",
    "\n",
    "**Objective**:\n",
    "The goal of this project is to use a bunch of news articles extracted from the companies’ internal database and categorize them into several categories like politics, technology, sports, business and entertainment based on their content. Use natural language processing and create & compare at least three different models."
   ]
  },
  {
   "cell_type": "markdown",
   "id": "c43c9a90",
   "metadata": {},
   "source": [
    "### Attribute Information:\n",
    "\n",
    "* Article\n",
    "* Category\n",
    "\n",
    "The feature names are themselves pretty self-explanatory."
   ]
  },
  {
   "cell_type": "markdown",
   "id": "e2e69f82",
   "metadata": {},
   "source": [
    "### Our Approach:\n",
    "\n",
    "1. Importing the libraries\n",
    "2. Loading the dataset\n",
    "3. Data Exploration\n",
    "  * Shape of the dataset\n",
    "  * News articles per category\n",
    "4. Text Processing\n",
    "  * Removing the non-letters\n",
    "  * Tokenizing the text\n",
    "  * Removing stopwords\n",
    "  * Lemmatization\n",
    "5. Data Transformation\n",
    "  * Encoding the target variable\n",
    "  * Bag of Words\n",
    "  * TF-IDF\n",
    "  * Train-Test Split\n",
    "6. Model Training & Evaluation\n",
    "  * Simple Approach\n",
    "    * Naive Bayes\n",
    "  * Functionalized Code\n",
    "    * Decision Tree\n",
    "    * Nearest Neighbors\n",
    "    * Random Forest"
   ]
  },
  {
   "cell_type": "markdown",
   "id": "cace988d",
   "metadata": {},
   "source": [
    "#### 1. Importing the libraries"
   ]
  },
  {
   "cell_type": "code",
   "execution_count": 1,
   "id": "f146ce05",
   "metadata": {},
   "outputs": [],
   "source": [
    "import pandas as pd"
   ]
  },
  {
   "cell_type": "code",
   "execution_count": 2,
   "id": "29a8ac56",
   "metadata": {
    "scrolled": true
   },
   "outputs": [
    {
     "name": "stderr",
     "output_type": "stream",
     "text": [
      "[nltk_data] Downloading package punkt to\n",
      "[nltk_data]     C:\\Users\\ashok\\AppData\\Roaming\\nltk_data...\n",
      "[nltk_data]   Package punkt is already up-to-date!\n",
      "[nltk_data] Downloading package stopwords to\n",
      "[nltk_data]     C:\\Users\\ashok\\AppData\\Roaming\\nltk_data...\n",
      "[nltk_data]   Package stopwords is already up-to-date!\n",
      "[nltk_data] Downloading package wordnet to\n",
      "[nltk_data]     C:\\Users\\ashok\\AppData\\Roaming\\nltk_data...\n",
      "[nltk_data]   Package wordnet is already up-to-date!\n"
     ]
    },
    {
     "name": "stdout",
     "output_type": "stream",
     "text": [
      "Requirement already satisfied: category_encoders in c:\\programdata\\anaconda3\\lib\\site-packages (2.5.1.post0)\n",
      "Requirement already satisfied: patsy>=0.5.1 in c:\\programdata\\anaconda3\\lib\\site-packages (from category_encoders) (0.5.2)\n",
      "Requirement already satisfied: statsmodels>=0.9.0 in c:\\programdata\\anaconda3\\lib\\site-packages (from category_encoders) (0.13.0)\n",
      "Requirement already satisfied: numpy>=1.14.0 in c:\\programdata\\anaconda3\\lib\\site-packages (from category_encoders) (1.21.5)\n",
      "Requirement already satisfied: pandas>=1.0.5 in c:\\programdata\\anaconda3\\lib\\site-packages (from category_encoders) (1.3.4)\n",
      "Requirement already satisfied: scikit-learn>=0.20.0 in c:\\programdata\\anaconda3\\lib\\site-packages (from category_encoders) (1.0.2)\n",
      "Requirement already satisfied: scipy>=1.0.0 in c:\\programdata\\anaconda3\\lib\\site-packages (from category_encoders) (1.7.3)\n",
      "Requirement already satisfied: pytz>=2017.3 in c:\\programdata\\anaconda3\\lib\\site-packages (from pandas>=1.0.5->category_encoders) (2021.3)\n",
      "Requirement already satisfied: python-dateutil>=2.7.3 in c:\\programdata\\anaconda3\\lib\\site-packages (from pandas>=1.0.5->category_encoders) (2.8.2)\n",
      "Requirement already satisfied: six in c:\\programdata\\anaconda3\\lib\\site-packages (from patsy>=0.5.1->category_encoders) (1.16.0)\n",
      "Requirement already satisfied: threadpoolctl>=2.0.0 in c:\\programdata\\anaconda3\\lib\\site-packages (from scikit-learn>=0.20.0->category_encoders) (2.2.0)\n",
      "Requirement already satisfied: joblib>=0.11 in c:\\programdata\\anaconda3\\lib\\site-packages (from scikit-learn>=0.20.0->category_encoders) (1.1.0)\n"
     ]
    },
    {
     "name": "stderr",
     "output_type": "stream",
     "text": [
      "WARNING: Ignoring invalid distribution -rllib3 (c:\\programdata\\anaconda3\\lib\\site-packages)\n",
      "WARNING: Ignoring invalid distribution -lick (c:\\programdata\\anaconda3\\lib\\site-packages)\n",
      "WARNING: Ignoring invalid distribution -ip (c:\\programdata\\anaconda3\\lib\\site-packages)\n",
      "WARNING: Ignoring invalid distribution -eautifulsoup4 (c:\\programdata\\anaconda3\\lib\\site-packages)\n",
      "WARNING: Ignoring invalid distribution -atplotlib (c:\\programdata\\anaconda3\\lib\\site-packages)\n",
      "WARNING: Ignoring invalid distribution -rllib3 (c:\\programdata\\anaconda3\\lib\\site-packages)\n",
      "WARNING: Ignoring invalid distribution -lick (c:\\programdata\\anaconda3\\lib\\site-packages)\n",
      "WARNING: Ignoring invalid distribution -ip (c:\\programdata\\anaconda3\\lib\\site-packages)\n",
      "WARNING: Ignoring invalid distribution -eautifulsoup4 (c:\\programdata\\anaconda3\\lib\\site-packages)\n",
      "WARNING: Ignoring invalid distribution -atplotlib (c:\\programdata\\anaconda3\\lib\\site-packages)\n",
      "WARNING: Ignoring invalid distribution -rllib3 (c:\\programdata\\anaconda3\\lib\\site-packages)\n",
      "WARNING: Ignoring invalid distribution -lick (c:\\programdata\\anaconda3\\lib\\site-packages)\n",
      "WARNING: Ignoring invalid distribution -ip (c:\\programdata\\anaconda3\\lib\\site-packages)\n",
      "WARNING: Ignoring invalid distribution -eautifulsoup4 (c:\\programdata\\anaconda3\\lib\\site-packages)\n",
      "WARNING: Ignoring invalid distribution -atplotlib (c:\\programdata\\anaconda3\\lib\\site-packages)\n",
      "WARNING: Ignoring invalid distribution -rllib3 (c:\\programdata\\anaconda3\\lib\\site-packages)\n",
      "WARNING: Ignoring invalid distribution -lick (c:\\programdata\\anaconda3\\lib\\site-packages)\n",
      "WARNING: Ignoring invalid distribution -ip (c:\\programdata\\anaconda3\\lib\\site-packages)\n",
      "WARNING: Ignoring invalid distribution -eautifulsoup4 (c:\\programdata\\anaconda3\\lib\\site-packages)\n",
      "WARNING: Ignoring invalid distribution -atplotlib (c:\\programdata\\anaconda3\\lib\\site-packages)\n",
      "WARNING: Ignoring invalid distribution -rllib3 (c:\\programdata\\anaconda3\\lib\\site-packages)\n",
      "WARNING: Ignoring invalid distribution -lick (c:\\programdata\\anaconda3\\lib\\site-packages)\n",
      "WARNING: Ignoring invalid distribution -ip (c:\\programdata\\anaconda3\\lib\\site-packages)\n",
      "WARNING: Ignoring invalid distribution -eautifulsoup4 (c:\\programdata\\anaconda3\\lib\\site-packages)\n",
      "WARNING: Ignoring invalid distribution -atplotlib (c:\\programdata\\anaconda3\\lib\\site-packages)\n",
      "WARNING: Ignoring invalid distribution -rllib3 (c:\\programdata\\anaconda3\\lib\\site-packages)\n",
      "WARNING: Ignoring invalid distribution -lick (c:\\programdata\\anaconda3\\lib\\site-packages)\n",
      "WARNING: Ignoring invalid distribution -ip (c:\\programdata\\anaconda3\\lib\\site-packages)\n",
      "WARNING: Ignoring invalid distribution -eautifulsoup4 (c:\\programdata\\anaconda3\\lib\\site-packages)\n",
      "WARNING: Ignoring invalid distribution -atplotlib (c:\\programdata\\anaconda3\\lib\\site-packages)\n",
      "WARNING: You are using pip version 21.3.1; however, version 23.2.1 is available.\n",
      "You should consider upgrading via the 'C:\\ProgramData\\Anaconda3\\python.exe -m pip install --upgrade pip' command.\n"
     ]
    }
   ],
   "source": [
    "# To ignore all warnings\n",
    "import warnings\n",
    "\n",
    "# For reading & manipulating the data\n",
    "import pandas as pd\n",
    "import numpy as np\n",
    "\n",
    "# For visualizing the data\n",
    "# !pip install matplotlib --upgrade\n",
    "import matplotlib.pyplot as plt\n",
    "import seaborn as sns\n",
    "\n",
    "# To use Regular Expressions\n",
    "import re\n",
    "\n",
    "# To use Natural Language Processing\n",
    "import nltk\n",
    "\n",
    "# For tokenization\n",
    "from nltk.tokenize import word_tokenize\n",
    "nltk.download('punkt')\n",
    "\n",
    "# To remove stopwords\n",
    "from nltk.corpus import stopwords\n",
    "nltk.download('stopwords')\n",
    "\n",
    "# For lemmetization\n",
    "from nltk import WordNetLemmatizer\n",
    "nltk.download('wordnet')\n",
    "\n",
    "# For BoW & TF-IDF\n",
    "from sklearn.feature_extraction.text import CountVectorizer, TfidfVectorizer\n",
    "\n",
    "# For encoding the categorical variable\n",
    "!pip install category_encoders\n",
    "import category_encoders as ce\n",
    "\n",
    "# To try out different ML models\n",
    "from sklearn.tree import DecisionTreeClassifier\n",
    "from sklearn.neighbors import KNeighborsClassifier\n",
    "from sklearn.naive_bayes import MultinomialNB\n",
    "from sklearn.ensemble import RandomForestClassifier\n",
    "\n",
    "# To perform train-test split\n",
    "from sklearn.model_selection import train_test_split\n",
    "\n",
    "# Performace Metrics for evaluating the model\n",
    "from sklearn.metrics import accuracy_score, roc_auc_score, f1_score, precision_score, recall_score\n",
    "from sklearn.metrics import confusion_matrix, classification_report\n",
    "\n",
    "warnings.simplefilter('ignore')"
   ]
  },
  {
   "cell_type": "markdown",
   "id": "8eaa61f2",
   "metadata": {},
   "source": [
    "#### 2. Loading the dataset"
   ]
  },
  {
   "cell_type": "code",
   "execution_count": 3,
   "id": "ca3b9558",
   "metadata": {},
   "outputs": [],
   "source": [
    "df = pd.read_csv('flipitnews-data.csv')"
   ]
  },
  {
   "cell_type": "markdown",
   "id": "5313090b",
   "metadata": {},
   "source": [
    "#### 3. Data Exploration"
   ]
  },
  {
   "cell_type": "code",
   "execution_count": 4,
   "id": "c3eead47",
   "metadata": {},
   "outputs": [
    {
     "name": "stdout",
     "output_type": "stream",
     "text": [
      "No. of rows: 2225\n"
     ]
    }
   ],
   "source": [
    "print('No. of rows: {}'.format(df.shape[0]))"
   ]
  },
  {
   "cell_type": "markdown",
   "id": "8e180ea3",
   "metadata": {},
   "source": [
    "There are 2225 news articles in the dataset"
   ]
  },
  {
   "cell_type": "code",
   "execution_count": 5,
   "id": "0e2ddc08",
   "metadata": {},
   "outputs": [
    {
     "name": "stdout",
     "output_type": "stream",
     "text": [
      "No. of unique rows: 2126\n"
     ]
    }
   ],
   "source": [
    "print('No. of unique rows: {}'.format(df.nunique()[1]))"
   ]
  },
  {
   "cell_type": "markdown",
   "id": "e749126d",
   "metadata": {},
   "source": [
    "Now lets see the duplicated rows and remove them"
   ]
  },
  {
   "cell_type": "code",
   "execution_count": 6,
   "id": "01dc33dc",
   "metadata": {},
   "outputs": [
    {
     "data": {
      "text/html": [
       "<div>\n",
       "<style scoped>\n",
       "    .dataframe tbody tr th:only-of-type {\n",
       "        vertical-align: middle;\n",
       "    }\n",
       "\n",
       "    .dataframe tbody tr th {\n",
       "        vertical-align: top;\n",
       "    }\n",
       "\n",
       "    .dataframe thead th {\n",
       "        text-align: right;\n",
       "    }\n",
       "</style>\n",
       "<table border=\"1\" class=\"dataframe\">\n",
       "  <thead>\n",
       "    <tr style=\"text-align: right;\">\n",
       "      <th></th>\n",
       "      <th>Category</th>\n",
       "      <th>Article</th>\n",
       "    </tr>\n",
       "  </thead>\n",
       "  <tbody>\n",
       "    <tr>\n",
       "      <th>85</th>\n",
       "      <td>Politics</td>\n",
       "      <td>hague  given up  his pm ambition former conser...</td>\n",
       "    </tr>\n",
       "    <tr>\n",
       "      <th>301</th>\n",
       "      <td>Politics</td>\n",
       "      <td>fox attacks blair s tory  lies  tony blair lie...</td>\n",
       "    </tr>\n",
       "    <tr>\n",
       "      <th>496</th>\n",
       "      <td>Technology</td>\n",
       "      <td>microsoft gets the blogging bug software giant...</td>\n",
       "    </tr>\n",
       "    <tr>\n",
       "      <th>543</th>\n",
       "      <td>Business</td>\n",
       "      <td>economy  strong  in election year uk businesse...</td>\n",
       "    </tr>\n",
       "    <tr>\n",
       "      <th>582</th>\n",
       "      <td>Entertainment</td>\n",
       "      <td>ray dvd beats box office takings oscar-nominat...</td>\n",
       "    </tr>\n",
       "    <tr>\n",
       "      <th>...</th>\n",
       "      <td>...</td>\n",
       "      <td>...</td>\n",
       "    </tr>\n",
       "    <tr>\n",
       "      <th>2206</th>\n",
       "      <td>Politics</td>\n",
       "      <td>kennedy questions trust of blair lib dem leade...</td>\n",
       "    </tr>\n",
       "    <tr>\n",
       "      <th>2207</th>\n",
       "      <td>Technology</td>\n",
       "      <td>california sets fines for spyware the makers o...</td>\n",
       "    </tr>\n",
       "    <tr>\n",
       "      <th>2213</th>\n",
       "      <td>Technology</td>\n",
       "      <td>progress on new internet domains by early 2005...</td>\n",
       "    </tr>\n",
       "    <tr>\n",
       "      <th>2215</th>\n",
       "      <td>Technology</td>\n",
       "      <td>junk e-mails on relentless rise spam traffic i...</td>\n",
       "    </tr>\n",
       "    <tr>\n",
       "      <th>2217</th>\n",
       "      <td>Technology</td>\n",
       "      <td>rings of steel combat net attacks gambling is ...</td>\n",
       "    </tr>\n",
       "  </tbody>\n",
       "</table>\n",
       "<p>99 rows × 2 columns</p>\n",
       "</div>"
      ],
      "text/plain": [
       "           Category                                            Article\n",
       "85         Politics  hague  given up  his pm ambition former conser...\n",
       "301        Politics  fox attacks blair s tory  lies  tony blair lie...\n",
       "496      Technology  microsoft gets the blogging bug software giant...\n",
       "543        Business  economy  strong  in election year uk businesse...\n",
       "582   Entertainment  ray dvd beats box office takings oscar-nominat...\n",
       "...             ...                                                ...\n",
       "2206       Politics  kennedy questions trust of blair lib dem leade...\n",
       "2207     Technology  california sets fines for spyware the makers o...\n",
       "2213     Technology  progress on new internet domains by early 2005...\n",
       "2215     Technology  junk e-mails on relentless rise spam traffic i...\n",
       "2217     Technology  rings of steel combat net attacks gambling is ...\n",
       "\n",
       "[99 rows x 2 columns]"
      ]
     },
     "execution_count": 6,
     "metadata": {},
     "output_type": "execute_result"
    }
   ],
   "source": [
    "df[df.duplicated()]"
   ]
  },
  {
   "cell_type": "code",
   "execution_count": 7,
   "id": "a8791e56",
   "metadata": {},
   "outputs": [],
   "source": [
    "df.drop_duplicates(inplace= True)"
   ]
  },
  {
   "cell_type": "code",
   "execution_count": 8,
   "id": "36427d09",
   "metadata": {},
   "outputs": [
    {
     "name": "stdout",
     "output_type": "stream",
     "text": [
      "No. of unique rows: 2126\n",
      "No. of Categories: 5\n"
     ]
    }
   ],
   "source": [
    "print('No. of unique rows: {}'.format(df.shape[0]))\n",
    "print('No. of Categories: {}'.format(df.nunique()[0]))"
   ]
  },
  {
   "cell_type": "markdown",
   "id": "e06f493a",
   "metadata": {},
   "source": [
    "#### Number of news articles per category"
   ]
  },
  {
   "cell_type": "code",
   "execution_count": 9,
   "id": "9369cca6",
   "metadata": {},
   "outputs": [
    {
     "data": {
      "image/png": "[encoded data removed]",
      "text/plain": [
       "<Figure size 576x360 with 1 Axes>"
      ]
     },
     "metadata": {
      "needs_background": "light"
     },
     "output_type": "display_data"
    }
   ],
   "source": [
    "plt.figure(figsize=(8, 5))\n",
    "ax = sns.countplot(x=df['Category'], palette='Blues')\n",
    "\n",
    "ax.bar_label(ax.containers[0])\n",
    "\n",
    "ax.set_title('Distribution of Categories')\n",
    "ax.set_xlabel('Category')\n",
    "ax.set_ylabel('Number of Articles')\n",
    "\n",
    "plt.show()"
   ]
  },
  {
   "cell_type": "markdown",
   "id": "994ac42b",
   "metadata": {},
   "source": [
    "Sports and Busiess Category have more news articles"
   ]
  },
  {
   "cell_type": "markdown",
   "id": "d1df8a0f",
   "metadata": {},
   "source": [
    "#### Text Processing"
   ]
  },
  {
   "cell_type": "markdown",
   "id": "f79e2d0c",
   "metadata": {},
   "source": [
    "Before Processing"
   ]
  },
  {
   "cell_type": "code",
   "execution_count": 10,
   "id": "dca16ed7",
   "metadata": {},
   "outputs": [
    {
     "data": {
      "text/plain": [
       "0       tv future in the hands of viewers with home th...\n",
       "1       worldcom boss  left books alone  former worldc...\n",
       "2       tigers wary of farrell  gamble  leicester say ...\n",
       "3       yeading face newcastle in fa cup premiership s...\n",
       "4       ocean s twelve raids box office ocean s twelve...\n",
       "                              ...                        \n",
       "2220    cars pull down us retail figures us retail sal...\n",
       "2221    kilroy unveils immigration policy ex-chatshow ...\n",
       "2222    rem announce new glasgow concert us band rem h...\n",
       "2223    how political squabbles snowball it s become c...\n",
       "2224    souness delight at euro progress boss graeme s...\n",
       "Name: Article, Length: 2126, dtype: object"
      ]
     },
     "execution_count": 10,
     "metadata": {},
     "output_type": "execute_result"
    }
   ],
   "source": [
    "df['Article']"
   ]
  },
  {
   "cell_type": "markdown",
   "id": "fdd73825",
   "metadata": {},
   "source": [
    "This is how a single news article in our dataset looks before processing.\n",
    "We can see that everything is already in lower case so we don't need to do that explicitly."
   ]
  },
  {
   "cell_type": "code",
   "execution_count": 11,
   "id": "dcfd66f2",
   "metadata": {},
   "outputs": [
    {
     "name": "stderr",
     "output_type": "stream",
     "text": [
      "[nltk_data] Downloading package omw-1.4 to\n",
      "[nltk_data]     C:\\Users\\ashok\\AppData\\Roaming\\nltk_data...\n",
      "[nltk_data]   Package omw-1.4 is already up-to-date!\n"
     ]
    },
    {
     "data": {
      "text/plain": [
       "True"
      ]
     },
     "execution_count": 11,
     "metadata": {},
     "output_type": "execute_result"
    }
   ],
   "source": [
    "import nltk\n",
    "nltk.download('omw-1.4')"
   ]
  },
  {
   "cell_type": "code",
   "execution_count": 12,
   "id": "35b62690",
   "metadata": {},
   "outputs": [],
   "source": [
    "stop_words = list(stopwords.words(\"english\"))\n",
    "\n",
    "def text_process(sent):\n",
    "  # Removing non-letters\n",
    "  sent = re.sub('[^a-zA-Z]', ' ', sent)\n",
    "\n",
    "  # Word tokenizing the text\n",
    "  words = nltk.word_tokenize(sent)\n",
    "\n",
    "  # Removing stopwords\n",
    "  filtered_sent = [w for w in words if not w in stop_words]\n",
    "\n",
    "  # Lemmatization\n",
    "  lemmatizer = WordNetLemmatizer()\n",
    "  new_txt = [lemmatizer.lemmatize(word) for word in filtered_sent]\n",
    "  new_txt = \" \".join(new_txt)\n",
    "\n",
    "  return new_txt\n",
    "\n",
    "df['Article'] = df['Article'].apply(text_process)\n"
   ]
  },
  {
   "cell_type": "markdown",
   "id": "53677957",
   "metadata": {},
   "source": [
    "After Processing"
   ]
  },
  {
   "cell_type": "code",
   "execution_count": 13,
   "id": "dbc602ce",
   "metadata": {},
   "outputs": [
    {
     "data": {
      "text/plain": [
       "0       tv future hand viewer home theatre system plas...\n",
       "1       worldcom bos left book alone former worldcom b...\n",
       "2       tiger wary farrell gamble leicester say rushed...\n",
       "3       yeading face newcastle fa cup premiership side...\n",
       "4       ocean twelve raid box office ocean twelve crim...\n",
       "                              ...                        \n",
       "2220    car pull u retail figure u retail sale fell ja...\n",
       "2221    kilroy unveils immigration policy ex chatshow ...\n",
       "2222    rem announce new glasgow concert u band rem an...\n",
       "2223    political squabble snowball become commonplace...\n",
       "2224    souness delight euro progress bos graeme soune...\n",
       "Name: Article, Length: 2126, dtype: object"
      ]
     },
     "execution_count": 13,
     "metadata": {},
     "output_type": "execute_result"
    }
   ],
   "source": [
    "df['Article']"
   ]
  },
  {
   "cell_type": "markdown",
   "id": "1444b863",
   "metadata": {
    "id": "U3DRliarZ9vf"
   },
   "source": [
    "This is what an article obtained after text processing looks like."
   ]
  },
  {
   "cell_type": "markdown",
   "id": "7bd4a529",
   "metadata": {
    "id": "E9m-Rm1JobhE"
   },
   "source": [
    "#### Data Transformation"
   ]
  },
  {
   "cell_type": "markdown",
   "id": "78224a8e",
   "metadata": {
    "id": "c6AXvcndAKA2"
   },
   "source": [
    "**Encoding the target variable -**"
   ]
  },
  {
   "cell_type": "code",
   "execution_count": 14,
   "id": "aa315ff1",
   "metadata": {
    "id": "AXBEAaJg_U5l"
   },
   "outputs": [],
   "source": [
    "encode = ce.OrdinalEncoder(cols=['Category'])\n",
    "df = encode.fit_transform(df)"
   ]
  },
  {
   "cell_type": "markdown",
   "id": "a97b6d62",
   "metadata": {
    "id": "3xTGgZQbBStE"
   },
   "source": [
    "**Outcome labels after encoding -**\n",
    "\n",
    "Category:\n",
    "\n",
    "1 - Technology\n",
    "\n",
    "2 - Business\n",
    "\n",
    "3 - Sports\n",
    "\n",
    "4 - Entertainment\n",
    "\n",
    "5 - Politics"
   ]
  },
  {
   "cell_type": "markdown",
   "id": "6da5a606",
   "metadata": {
    "id": "sAuhD3e1-4Be"
   },
   "source": [
    "**Bag of Words / TF-IDF**"
   ]
  },
  {
   "cell_type": "markdown",
   "id": "644bd133",
   "metadata": {
    "id": "t7no7LYSbPjI"
   },
   "source": [
    "We can use either BoW or TF-IDF\n",
    "* BoW\n",
    "* TF-IDF"
   ]
  },
  {
   "cell_type": "code",
   "execution_count": 15,
   "id": "5f04f2b9",
   "metadata": {
    "colab": {
     "base_uri": "https://localhost:8080/"
    },
    "id": "UuZ66mAx84w4",
    "outputId": "0060b190-8f35-4ba0-8cd0-43db5c774f92"
   },
   "outputs": [
    {
     "name": "stdout",
     "output_type": "stream",
     "text": [
      "Choose \n",
      " (1) If you want to use Bag of Words \n",
      " (2) If you want to use TF-IDF \n",
      " Choice: 2\n"
     ]
    }
   ],
   "source": [
    "choice = int(input(\"Choose \\n (1) If you want to use Bag of Words \\n (2) If you want to use TF-IDF \\n Choice: \"))\n",
    "\n",
    "if choice == 1:\n",
    "  cv = CountVectorizer(max_features=5000)\n",
    "  X = cv.fit_transform(df.Article).toarray()\n",
    "  y = np.array(df['Category'].values)\n",
    "\n",
    "elif choice == 2:\n",
    "  tf_idf = TfidfVectorizer()\n",
    "  X = tf_idf.fit_transform(df.Article).toarray()\n",
    "  y = np.array(df['Category'].values)\n",
    "\n",
    "else:\n",
    "  print(\"Wrong Input!\")"
   ]
  },
  {
   "cell_type": "markdown",
   "id": "a45cbbf2",
   "metadata": {
    "id": "g6MNWh3M_tS5"
   },
   "source": [
    "Performing train-test split -"
   ]
  },
  {
   "cell_type": "code",
   "execution_count": 16,
   "id": "de1fd11f",
   "metadata": {
    "id": "9LNUNT2P_VGA"
   },
   "outputs": [],
   "source": [
    "X_train, X_val, y_train, y_val = train_test_split(X, y, test_size=0.20,\n",
    "                                                  shuffle=True, stratify=y,\n",
    "                                                  random_state=42)"
   ]
  },
  {
   "cell_type": "markdown",
   "id": "0908e818",
   "metadata": {
    "id": "Z2UEoCtCbf1G"
   },
   "source": [
    "Final shape of the train & test set."
   ]
  },
  {
   "cell_type": "code",
   "execution_count": 17,
   "id": "117811bb",
   "metadata": {
    "colab": {
     "base_uri": "https://localhost:8080/"
    },
    "id": "b81MhbWZAFtY",
    "outputId": "6e9c1a24-940c-4974-fb96-b15865c41fc7"
   },
   "outputs": [
    {
     "name": "stdout",
     "output_type": "stream",
     "text": [
      "No. of rows in train set is 1700.\n",
      "No. of rows in test set is 426.\n"
     ]
    }
   ],
   "source": [
    "print(\"No. of rows in train set is {}.\".format(X_train.shape[0]))\n",
    "print(\"No. of rows in test set is {}.\".format(X_val.shape[0]))"
   ]
  },
  {
   "cell_type": "markdown",
   "id": "0837fdb5",
   "metadata": {
    "id": "siNwm6GgLnzL"
   },
   "source": [
    "### Simple Approach -"
   ]
  },
  {
   "cell_type": "markdown",
   "id": "e1621d16",
   "metadata": {
    "id": "3Y2EbIUTcSzh"
   },
   "source": [
    "First, we'll follow a basic approach to create a model for this multi-class classification problem."
   ]
  },
  {
   "cell_type": "markdown",
   "id": "5a46a7f0",
   "metadata": {
    "id": "lRW7Jot2q3qx"
   },
   "source": [
    "#### **Naive Bayes Classifier**"
   ]
  },
  {
   "cell_type": "markdown",
   "id": "6628c5bf",
   "metadata": {
    "id": "setGwvA2cfSb"
   },
   "source": [
    "The very first ML algorithm that we'll be trying is Naive Bayes Classifier."
   ]
  },
  {
   "cell_type": "code",
   "execution_count": 18,
   "id": "5e9c8b05",
   "metadata": {
    "colab": {
     "base_uri": "https://localhost:8080/"
    },
    "id": "46t1KEOIq29e",
    "outputId": "a15b5d42-365e-425e-d0f7-a2074a50d93b"
   },
   "outputs": [
    {
     "data": {
      "text/plain": [
       "MultinomialNB()"
      ]
     },
     "execution_count": 18,
     "metadata": {},
     "output_type": "execute_result"
    }
   ],
   "source": [
    "# Training the model -\n",
    "nb = MultinomialNB()\n",
    "nb.fit(X_train, y_train)"
   ]
  },
  {
   "cell_type": "code",
   "execution_count": 32,
   "id": "c66dd45e",
   "metadata": {
    "colab": {
     "base_uri": "https://localhost:8080/"
    },
    "id": "hXDMJQZes2WJ",
    "outputId": "95c73675-7785-484a-e413-8405accc6df5"
   },
   "outputs": [
    {
     "name": "stdout",
     "output_type": "stream",
     "text": [
      "------------Naive Bayes-------------\n",
      "Train accuracy :0.988\n",
      "Test accuracy :0.965\n",
      "\n",
      "ROC AUC Score: 0.998\n",
      "\n",
      "Precision: 0.966\n",
      "Recall: 0.965\n",
      "F1 Score: 0.965\n"
     ]
    }
   ],
   "source": [
    "print(\"------------{}-------------\".format('Naive Bayes'))\n",
    "\n",
    "# Calculating the train & test accuracy -\n",
    "nb_train = accuracy_score(y_train, nb.predict(X_train))\n",
    "nb_test = accuracy_score(y_val, nb.predict(X_val))\n",
    "\n",
    "print(\"Train accuracy :{:.3f}\".format(nb_train))\n",
    "print(\"Test accuracy :{:.3f}\\n\".format(nb_test))\n",
    "\n",
    "# Making predictions on the test set -\n",
    "y_pred_nb = nb.predict(X_val)\n",
    "y_pred_proba_nb = nb.predict_proba(X_val)\n",
    "\n",
    "# Computing the ROC AUC score -\n",
    "print(\"ROC AUC Score: {:.3f}\\n\".format(roc_auc_score(y_val, y_pred_proba_nb, multi_class='ovr')))\n",
    "\n",
    "# Computing the precision, recall & f1 score -\n",
    "precision = precision_score(y_val, y_pred_nb, average='weighted')\n",
    "recall = recall_score(y_val, y_pred_nb, average='weighted')\n",
    "f1 = f1_score(y_val, y_pred_nb, average='weighted')\n",
    "\n",
    "print(\"Precision: {:.3f}\".format(precision))\n",
    "print(\"Recall: {:.3f}\".format(recall))\n",
    "print(\"F1 Score: {:.3f}\".format(f1))"
   ]
  },
  {
   "cell_type": "markdown",
   "id": "37482a56",
   "metadata": {
    "id": "m4N303Q3t4ro"
   },
   "source": [
    "Plotting the Confusion Matrix -"
   ]
  },
  {
   "cell_type": "code",
   "execution_count": 23,
   "id": "25a41b60",
   "metadata": {
    "colab": {
     "base_uri": "https://localhost:8080/",
     "height": 350
    },
    "id": "ZmllUyU_uLNR",
    "outputId": "ea829074-0eb1-4985-e440-b051e30394ce"
   },
   "outputs": [
    {
     "data": {
      "image/png": "[encoded data removed]",
      "text/plain": [
       "<Figure size 576x360 with 1 Axes>"
      ]
     },
     "metadata": {
      "needs_background": "light"
     },
     "output_type": "display_data"
    }
   ],
   "source": [
    "cm = confusion_matrix(y_val, y_pred_nb)\n",
    "\n",
    "plt.figure(figsize = (8, 5))\n",
    "sns.heatmap(cm, annot=True, fmt='d', cbar=False, cmap='Blues')\n",
    "plt.title('Confusion Matrix')\n",
    "plt.xlabel('Predicted label')\n",
    "plt.ylabel('Actual label')\n",
    "plt.show()"
   ]
  },
  {
   "cell_type": "markdown",
   "id": "fbbf59ca",
   "metadata": {
    "id": "UtViSbvpveSh"
   },
   "source": [
    "Printing the Classification Report -"
   ]
  },
  {
   "cell_type": "code",
   "execution_count": 24,
   "id": "2410c970",
   "metadata": {
    "colab": {
     "base_uri": "https://localhost:8080/"
    },
    "id": "phKvLIblvOQa",
    "outputId": "fdd22525-fb66-41b2-8138-8e323bdf6a2f"
   },
   "outputs": [
    {
     "name": "stdout",
     "output_type": "stream",
     "text": [
      "              precision    recall  f1-score   support\n",
      "\n",
      "           1       1.00      0.90      0.95        69\n",
      "           2       0.96      0.98      0.97       101\n",
      "           3       0.98      1.00      0.99       101\n",
      "           4       0.96      0.93      0.95        74\n",
      "           5       0.93      0.99      0.96        81\n",
      "\n",
      "    accuracy                           0.96       426\n",
      "   macro avg       0.97      0.96      0.96       426\n",
      "weighted avg       0.97      0.96      0.96       426\n",
      "\n"
     ]
    }
   ],
   "source": [
    "print(classification_report(y_val, y_pred_nb))"
   ]
  },
  {
   "cell_type": "markdown",
   "id": "10779b36",
   "metadata": {
    "id": "uXoo7WjtLt8_"
   },
   "source": [
    "### Functionalized Code -"
   ]
  },
  {
   "cell_type": "markdown",
   "id": "beeb84b7",
   "metadata": {
    "id": "tn3UaU5VezLR"
   },
   "source": [
    "Now, we'll try to functionalize the above code so that we can use it for a few more different models."
   ]
  },
  {
   "cell_type": "markdown",
   "id": "effe30b1",
   "metadata": {
    "id": "jce-58Uo2CFL"
   },
   "source": [
    "#### Model Training"
   ]
  },
  {
   "cell_type": "code",
   "execution_count": 25,
   "id": "272bb5eb",
   "metadata": {
    "id": "2SERsOIkuS54"
   },
   "outputs": [],
   "source": [
    "def model_train(obj):\n",
    "  obj.fit(X_train, y_train) # Training the model\n",
    "  y_pred = obj.predict(X_val) # Making predictions\n",
    "  y_pred_proba = obj.predict_proba(X_val)\n",
    "  return y_pred, y_pred_proba"
   ]
  },
  {
   "cell_type": "markdown",
   "id": "b28b6ec4",
   "metadata": {
    "id": "T69zTSiE2E_D"
   },
   "source": [
    "#### Model Evaluation"
   ]
  },
  {
   "cell_type": "code",
   "execution_count": 26,
   "id": "d365625b",
   "metadata": {
    "id": "mKSx47HKuZMk"
   },
   "outputs": [],
   "source": [
    "def model_eval(obj, y_pred, y_pred_proba,model_name):\n",
    "  print(\"------------{}-------------\".format(model_name))\n",
    "  \n",
    "  # Calculating the train & test accuracy\n",
    "  train_acc = accuracy_score(y_train, obj.predict(X_train))\n",
    "  test_acc = accuracy_score(y_val, obj.predict(X_val))\n",
    "\n",
    "  print(\"Train Accuracy: {:.3f}\".format(train_acc))\n",
    "  print(\"Test Accuracy: {:.3f}\\n\".format(test_acc))\n",
    "\n",
    "  # Computing the ROC AUC score\n",
    "  print(\"ROC AUC Score: {:.3f}\\n\".format(roc_auc_score(y_val, y_pred_proba, multi_class='ovr')))\n",
    "\n",
    "  # Computing the precision, recall & f1 score\n",
    "  precision = precision_score(y_val, y_pred, average='weighted')\n",
    "  recall = recall_score(y_val, y_pred, average='weighted')\n",
    "  f1 = f1_score(y_val, y_pred, average='weighted')\n",
    "\n",
    "  print(\"Precision: {:.3f}\".format(precision))\n",
    "  print(\"Recall: {:.3f}\".format(recall))\n",
    "  print(\"F1 Score: {:.3f}\".format(f1))\n",
    "\n",
    "  print(\"-------------------------\")"
   ]
  },
  {
   "cell_type": "markdown",
   "id": "71722abf",
   "metadata": {
    "id": "h3qAXRLBddfj"
   },
   "source": [
    "Now, let us try out a few more different ML algorithm to see how they perform for this problem, on this dataset."
   ]
  },
  {
   "cell_type": "markdown",
   "id": "81a36fa6",
   "metadata": {
    "id": "ZCi9-7YtQeZq"
   },
   "source": [
    "**Decision Tree Classifer**"
   ]
  },
  {
   "cell_type": "code",
   "execution_count": 27,
   "id": "becb91cc",
   "metadata": {
    "colab": {
     "base_uri": "https://localhost:8080/"
    },
    "id": "ttZMQWACQptZ",
    "outputId": "7180870e-a469-4c0c-d304-9826ff682292"
   },
   "outputs": [
    {
     "name": "stdout",
     "output_type": "stream",
     "text": [
      "------------Descision Tree-------------\n",
      "Train Accuracy: 1.000\n",
      "Test Accuracy: 0.819\n",
      "\n",
      "ROC AUC Score: 0.881\n",
      "\n",
      "Precision: 0.822\n",
      "Recall: 0.819\n",
      "F1 Score: 0.817\n",
      "-------------------------\n"
     ]
    }
   ],
   "source": [
    "# Creating the model object -\n",
    "dt = DecisionTreeClassifier()\n",
    "\n",
    "# Training the model -\n",
    "y_pred_dt, y_pred_proba_dt = model_train(dt)\n",
    "\n",
    "# Evaluatong the model -\n",
    "model_eval(dt, y_pred_dt, y_pred_proba_dt,'Descision Tree')"
   ]
  },
  {
   "cell_type": "markdown",
   "id": "1c6285a3",
   "metadata": {
    "id": "Egzqu4PbQiu3"
   },
   "source": [
    "**Nearest Neighbors Classifier**"
   ]
  },
  {
   "cell_type": "code",
   "execution_count": 28,
   "id": "122a09e7",
   "metadata": {
    "colab": {
     "base_uri": "https://localhost:8080/"
    },
    "id": "a5Fgr4nTQsCN",
    "outputId": "0e9bb3af-3645-425d-c5fa-30b83aec83fd"
   },
   "outputs": [
    {
     "name": "stdout",
     "output_type": "stream",
     "text": [
      "------------KNN-------------\n",
      "Train Accuracy: 0.964\n",
      "Test Accuracy: 0.934\n",
      "\n",
      "ROC AUC Score: 0.986\n",
      "\n",
      "Precision: 0.935\n",
      "Recall: 0.934\n",
      "F1 Score: 0.934\n",
      "-------------------------\n"
     ]
    }
   ],
   "source": [
    "# Creating the model object -\n",
    "knn = KNeighborsClassifier(n_neighbors=5)\n",
    "\n",
    "# Training the model -\n",
    "y_pred_knn, y_pred_proba_knn = model_train(knn)\n",
    "\n",
    "# Evaluatong the model -\n",
    "model_eval(knn, y_pred_knn, y_pred_proba_knn, 'KNN')"
   ]
  },
  {
   "cell_type": "markdown",
   "id": "d4873d64",
   "metadata": {
    "id": "lws9c2wqL-7F"
   },
   "source": [
    "**Random Forest Classifier**"
   ]
  },
  {
   "cell_type": "code",
   "execution_count": 29,
   "id": "6c7dd67e",
   "metadata": {
    "colab": {
     "base_uri": "https://localhost:8080/"
    },
    "id": "EiVD6z8cMIzt",
    "outputId": "96aa046e-12c6-4616-e0ee-cec8168c9f8a",
    "scrolled": true
   },
   "outputs": [
    {
     "name": "stdout",
     "output_type": "stream",
     "text": [
      "------------Randon Forest-------------\n",
      "Train Accuracy: 1.000\n",
      "Test Accuracy: 0.944\n",
      "\n",
      "ROC AUC Score: 0.997\n",
      "\n",
      "Precision: 0.947\n",
      "Recall: 0.944\n",
      "F1 Score: 0.944\n",
      "-------------------------\n"
     ]
    }
   ],
   "source": [
    "# Creating the model object -\n",
    "\n",
    "rf = RandomForestClassifier()\n",
    "\n",
    "# Training the model -\n",
    "y_pred_rf, y_pred_proba_rf = model_train(rf)\n",
    "\n",
    "# Evaluatong the model -\n",
    "model_eval(rf, y_pred_rf, y_pred_proba_rf,'Randon Forest')"
   ]
  },
  {
   "cell_type": "markdown",
   "id": "9d623af6",
   "metadata": {
    "id": "vP16yXxZldgp"
   },
   "source": [
    "*Observation: Out of all the models tested till now, Naive Bayes Classifier seems to be the best performing one since it gives good train & test accuracy, more than satisfactory precision & recall and almost non-significant overfitting.*\n",
    "\n"
   ]
  }
 ],
 "metadata": {
  "kernelspec": {
   "display_name": "Python 3 (ipykernel)",
   "language": "python",
   "name": "python3"
  },
  "language_info": {
   "codemirror_mode": {
    "name": "ipython",
    "version": 3
   },
   "file_extension": ".py",
   "mimetype": "text/x-python",
   "name": "python",
   "nbconvert_exporter": "python",
   "pygments_lexer": "ipython3",
   "version": "3.7.3"
  }
 },
 "nbformat": 4,
 "nbformat_minor": 5
}
